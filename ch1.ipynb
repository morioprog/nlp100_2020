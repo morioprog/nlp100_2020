{
 "nbformat": 4,
 "nbformat_minor": 2,
 "metadata": {
  "language_info": {
   "name": "python",
   "codemirror_mode": {
    "name": "ipython",
    "version": 3
   }
  },
  "orig_nbformat": 2,
  "file_extension": ".py",
  "mimetype": "text/x-python",
  "name": "python",
  "npconvert_exporter": "python",
  "pygments_lexer": "ipython3",
  "version": 3,
  "kernelspec": {
   "name": "python37564bit8c476086a85b4668b22887066ee8b83b",
   "display_name": "Python 3.7.5 64-bit"
  }
 },
 "cells": [
  {
   "cell_type": "markdown",
   "metadata": {},
   "source": [
    "# 第1章: 準備運動"
   ]
  },
  {
   "cell_type": "markdown",
   "metadata": {},
   "source": [
    "## 00.文字列の逆順\n",
    "文字列”stressed”の文字を逆に（末尾から先頭に向かって）並べた文字列を得よ．"
   ]
  },
  {
   "cell_type": "code",
   "execution_count": 4,
   "metadata": {},
   "outputs": [
    {
     "output_type": "execute_result",
     "data": {
      "text/plain": "'desserts'"
     },
     "metadata": {},
     "execution_count": 4
    }
   ],
   "source": [
    "s = \"stressed\"\n",
    "s[::-1]"
   ]
  },
  {
   "cell_type": "markdown",
   "metadata": {},
   "source": [
    "## 01. 「パタトクカシーー」\n",
    "「パタトクカシーー」という文字列の1,3,5,7文字目を取り出して連結した文字列を得よ．"
   ]
  },
  {
   "cell_type": "code",
   "execution_count": 7,
   "metadata": {},
   "outputs": [
    {
     "output_type": "stream",
     "name": "stdout",
     "text": "パトカー\n"
    }
   ],
   "source": [
    "s = \"パタトクカシーー\"\n",
    "print(s[::2])"
   ]
  },
  {
   "cell_type": "markdown",
   "metadata": {},
   "source": [
    "## 02. 「パトカー」＋「タクシー」＝「パタトクカシーー」\n",
    "「パトカー」＋「タクシー」の文字を先頭から交互に連結して文字列「パタトクカシーー」を得よ．"
   ]
  },
  {
   "cell_type": "code",
   "execution_count": 28,
   "metadata": {},
   "outputs": [
    {
     "output_type": "execute_result",
     "data": {
      "text/plain": "'パタトクカシーー'"
     },
     "metadata": {},
     "execution_count": 28
    }
   ],
   "source": [
    "s, t = \"パトカー\", \"タクシー\"\n",
    "''.join(i + j for i, j in zip(s, t))"
   ]
  },
  {
   "cell_type": "markdown",
   "metadata": {},
   "source": [
    "## 03. 円周率\n",
    "“Now I need a drink, alcoholic of course, after the heavy lectures involving quantum mechanics.”という文を単語に分解し，各単語の（アルファベットの）文字数を先頭から出現順に並べたリストを作成せよ．"
   ]
  },
  {
   "cell_type": "code",
   "execution_count": 50,
   "metadata": {},
   "outputs": [
    {
     "output_type": "execute_result",
     "data": {
      "text/plain": "[3, 1, 4, 1, 5, 9, 2, 6, 5, 3, 5, 8, 9, 7, 9]"
     },
     "metadata": {},
     "execution_count": 50
    }
   ],
   "source": [
    "import re\n",
    "\n",
    "s = \"Now I need a drink, alcoholic of course, after the heavy lectures involving quantum mechanics.\"\n",
    "[len(re.findall('[a-zA-Z]', i)) for i in s.split()]"
   ]
  },
  {
   "cell_type": "markdown",
   "metadata": {},
   "source": [
    "## 04. 元素記号\n",
    "“Hi He Lied Because Boron Could Not Oxidize Fluorine. New Nations Might Also Sign Peace Security Clause. Arthur King Can.”という文を単語に分解し，1, 5, 6, 7, 8, 9, 15, 16, 19番目の単語は先頭の1文字，それ以外の単語は先頭に2文字を取り出し，取り出した文字列から単語の位置（先頭から何番目の単語か）への連想配列（辞書型もしくはマップ型）を作成せよ．"
   ]
  },
  {
   "cell_type": "code",
   "execution_count": 22,
   "metadata": {},
   "outputs": [
    {
     "output_type": "execute_result",
     "data": {
      "text/plain": "{1: 'H',\n 2: 'He',\n 3: 'Li',\n 4: 'Be',\n 5: 'B',\n 6: 'C',\n 7: 'N',\n 8: 'O',\n 9: 'F',\n 10: 'Ne',\n 11: 'Na',\n 12: 'Mi',\n 13: 'Al',\n 14: 'Si',\n 15: 'P',\n 16: 'S',\n 17: 'Cl',\n 18: 'Ar',\n 19: 'K',\n 20: 'Ca'}"
     },
     "metadata": {},
     "execution_count": 22
    }
   ],
   "source": [
    "take_one = [1, 5, 6, 7, 8, 9, 15, 16, 19]   # 1-indexed\n",
    "s = \"Hi He Lied Because Boron Could Not Oxidize Fluorine. New Nations Might Also Sign Peace Security Clause. Arthur King Can.\"\n",
    "\n",
    "res = {}\n",
    "for idx, i in enumerate(s.split()):\n",
    "    if idx + 1 in take_one:\n",
    "        res[idx + 1] = i[0]\n",
    "    else:\n",
    "        res[idx + 1] = i[:2]\n",
    "\n",
    "res"
   ]
  },
  {
   "cell_type": "markdown",
   "metadata": {},
   "source": [
    "## 05. n-gram\n",
    "与えられたシーケンス（文字列やリストなど）からn-gramを作る関数を作成せよ．この関数を用い，”I am an NLPer”という文から単語bi-gram，文字bi-gramを得よ．"
   ]
  },
  {
   "cell_type": "code",
   "execution_count": 26,
   "metadata": {},
   "outputs": [
    {
     "output_type": "stream",
     "name": "stdout",
     "text": "['I ', ' a', 'am', 'm ', ' a', 'an', 'n ', ' N', 'NL', 'LP', 'Pe', 'er']\n[['I', 'am'], ['am', 'an'], ['an', 'NLPer']]\n"
    }
   ],
   "source": [
    "def n_gram(s, n):\n",
    "    sz = len(s)\n",
    "    return [s[i : i + n] for i in range(sz - n + 1)]\n",
    "\n",
    "s = \"I am an NLPer\"\n",
    "print(n_gram(s, 2))\n",
    "print(n_gram(s.split(), 2))"
   ]
  },
  {
   "cell_type": "markdown",
   "metadata": {},
   "source": [
    "## 06. 集合\n",
    "“paraparaparadise”と”paragraph”に含まれる文字bi-gramの集合を，それぞれ, XとYとして求め，XとYの和集合，積集合，差集合を求めよ．さらに，’se’というbi-gramがXおよびYに含まれるかどうかを調べよ．"
   ]
  },
  {
   "cell_type": "code",
   "execution_count": 38,
   "metadata": {},
   "outputs": [
    {
     "output_type": "stream",
     "name": "stdout",
     "text": "{'se', 'pa', 'ph', 'ar', 'is', 'ad', 'ag', 'di', 'gr', 'ra', 'ap'}\n{'pa', 'ra', 'ap', 'ar'}\n{'se', 'di', 'ad', 'is'}\n[True, False]\n"
    }
   ],
   "source": [
    "s, t = \"paraparaparadise\", \"paragraph\"\n",
    "x, y = map(lambda i: set(n_gram(i, 2)), (s, t))\n",
    "print(x | y)\n",
    "print(x & y)\n",
    "print(x - y)\n",
    "print(['se' in i for i in (x, y)])"
   ]
  },
  {
   "cell_type": "markdown",
   "metadata": {},
   "source": [
    "## 07. テンプレートによる文生成\n",
    "引数x, y, zを受け取り「x時のyはz」という文字列を返す関数を実装せよ．さらに，x=12, y=”気温”, z=22.4として，実行結果を確認せよ．"
   ]
  },
  {
   "cell_type": "code",
   "execution_count": 44,
   "metadata": {},
   "outputs": [
    {
     "output_type": "execute_result",
     "data": {
      "text/plain": "'12時の気温は22.4'"
     },
     "metadata": {},
     "execution_count": 44
    }
   ],
   "source": [
    "make_sentence = lambda x, y, z: \"{}時の{}は{}\".format(x, y, z)\n",
    "x, y, z = 12, \"気温\", 22.4\n",
    "make_sentence(x, y, z)"
   ]
  },
  {
   "cell_type": "markdown",
   "metadata": {},
   "source": [
    "## 08. 暗号文\n",
    "与えられた文字列の各文字を，以下の仕様で変換する関数cipherを実装せよ．\n",
    "* 英小文字ならば(219 - 文字コード)の文字に置換\n",
    "* その他の文字はそのまま出力\n",
    "\n",
    "この関数を用い，英語のメッセージを暗号化・復号化せよ．"
   ]
  },
  {
   "cell_type": "code",
   "execution_count": 49,
   "metadata": {},
   "outputs": [
    {
     "output_type": "stream",
     "name": "stdout",
     "text": "Nld I mvvw z wirmp, zoxlslorx lu xlfihv, zugvi gsv svzeb ovxgfivh rmeloermt jfzmgfn nvxszmrxh.\nNow I need a drink, alcoholic of course, after the heavy lectures involving quantum mechanics.\n"
    }
   ],
   "source": [
    "alphabet = [chr(i) for i in range(ord('a'), ord('z') + 1)]\n",
    "cipher = lambda s: ''.join(chr(219 - ord(i)) if i in alphabet else i for i in s)\n",
    "\n",
    "s = \"Now I need a drink, alcoholic of course, after the heavy lectures involving quantum mechanics.\"\n",
    "s_encode = cipher(s)\n",
    "print(s_encode)\n",
    "s_decode = cipher(s_encode)\n",
    "print(s_decode)"
   ]
  },
  {
   "cell_type": "markdown",
   "metadata": {},
   "source": [
    "## 09. Typoglycemia\n",
    "スペースで区切られた単語列に対して，各単語の先頭と末尾の文字は残し，それ以外の文字の順序をランダムに並び替えるプログラムを作成せよ．ただし，長さが４以下の単語は並び替えないこととする．適当な英語の文（例えば”I couldn’t believe that I could actually understand what I was reading : the phenomenal power of the human mind .”）を与え，その実行結果を確認せよ．"
   ]
  },
  {
   "cell_type": "code",
   "execution_count": 74,
   "metadata": {},
   "outputs": [
    {
     "output_type": "execute_result",
     "data": {
      "text/plain": "'I c’olundt bveliee that I colud aaulclty uersnatndd what I was rdneaig : the panhneoeml pewor of the haumn mind .'"
     },
     "metadata": {},
     "execution_count": 74
    }
   ],
   "source": [
    "import random\n",
    "\n",
    "def shuf(s):\n",
    "    s_mid = list(s[1 : -1])\n",
    "    random.shuffle(s_mid)\n",
    "    return s[0] + ''.join(s_mid) + s[-1]\n",
    "\n",
    "s = \"I couldn’t believe that I could actually understand what I was reading : the phenomenal power of the human mind .\"\n",
    "' '.join(word if len(word) <= 4 else shuf(word) for word in s.split())"
   ]
  }
 ]
}