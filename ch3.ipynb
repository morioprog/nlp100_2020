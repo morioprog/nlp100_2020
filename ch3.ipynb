{
 "nbformat": 4,
 "nbformat_minor": 2,
 "metadata": {
  "language_info": {
   "name": "python",
   "codemirror_mode": {
    "name": "ipython",
    "version": 3
   },
   "version": "3.7.6-final"
  },
  "orig_nbformat": 2,
  "file_extension": ".py",
  "mimetype": "text/x-python",
  "name": "python",
  "npconvert_exporter": "python",
  "pygments_lexer": "ipython3",
  "version": 3,
  "kernelspec": {
   "name": "python37664bit6e8309ff7aa04202b32779452ce3c1a4",
   "display_name": "Python 3.7.6 64-bit"
  }
 },
 "cells": [
  {
   "cell_type": "markdown",
   "metadata": {},
   "source": [
    "# 第3章: 正規表現"
   ]
  },
  {
   "cell_type": "markdown",
   "metadata": {},
   "source": [
    "## 20. JSONデータの読み込み\n",
    "Wikipedia記事のJSONファイルを読み込み，「イギリス」に関する記事本文を表示せよ．問題21-29では，ここで抽出した記事本文に対して実行せよ．"
   ]
  },
  {
   "cell_type": "code",
   "execution_count": 95,
   "metadata": {
    "tags": [
     "outputPrepend"
    ]
   },
   "outputs": [
    {
     "output_type": "stream",
     "name": "stdout",
     "text": "年11月26日をもって運航終了となり、コンコルドは空から姿を消した。\n\n主な空港として、ロンドンのヒースロー空港、[[ロンドン・ガトウィック空港|ガトウィック]]、[[ロンドン・スタンステッド空港|スタンステッド]]のほか、[[ロンドン・ルートン空港|ルートン]]、[[マンチェスター空港|マンチェスター]]、[[グラスゴー空港|グラスゴー]]などが挙げられる。\n\n日本との間には2016年サマースケジュールでは、ヒースロー空港と[[成田国際空港|成田空港]]の間にブリティッシュ・エアウェイズのみ1日1便直行便を運航し、[[東京国際空港|羽田空港]]の間にも、ブリティッシュ・エアウェイズ、[[日本航空]]、[[全日本空輸]]がそれぞれ1日1便直行便を運航している。かつてはヴァージン・アトランティック航空が就航していたが2015年に撤退している。\n\n==科学技術==\n{{Main|{{仮リンク|イギリスの科学技術|en|Science and technology in the United Kingdom}}}}\n\n17世紀の科学革命はイングランドとスコットランドが、18世紀の産業革命はイギリスが世界の中心であった。重要な発展に貢献した科学者と技術者を多数輩出している。[[アイザック・ニュートン]]、[[チャールズ・ダーウィン]]、電磁波の[[ジェームズ・クラーク・マクスウェル]]、そして最近では宇宙関係の[[スティーブン・ホーキング]]。科学上の重要な発見者には水素の[[ヘンリー・キャヴェンディッシュ]]、[[ペニシリン]]の[[アレクサンダー・フレミング]]、[[デオキシリボ核酸|DNA]]の[[フランシス・クリック]]がいる。工学面では[[グラハム・ベル]]など。科学の研究・応用は大学の重要な使命であり続け、2004年から5年間にイギリスが発表した科学論文は世界の7%を占める。学術雑誌[[ネイチャー]]や医学雑誌[[ランセット]]は世界的に著名である。\n\n==国民==\n{{main|イギリス人|{{仮リンク|イギリスの人口統計|en|Demography of the United Kingdom}}}}\n{{See also|{{仮リンク|イギリスの民族|en|Ethnic groups in the United Kingdom}}}}\n[[ファイル:UKpop.svg|thumb|right|イギリスの[[人口ピラミッド]]]]\nイギリスの人口は2015年時点で推計6,471万人であり[[国の人口順リスト|世界第22位]]である。\n\n「イギリス民族」という民族は存在しない。主な民族はイングランドを中心に居住する[[ゲルマン人|ゲルマン民族]]系のイングランド人（[[アングロ・サクソン人]]）、[[ケルト人|ケルト]]系のスコットランド人、アイルランド人、ウェールズ人だが、旧植民地出身のインド系（[[印僑]]）、[[アフリカ系]]、カリブ系、[[アラブ系]]や[[華僑]]なども多く住む[[多民族国家]]である。\n\nイギリスの国籍法では、旧植民地関連の者も含め、自国民を次の六つの区分に分けている。\n*GBR:British Citizen - イギリス市民\n*:本国人\n*BOTC:[[:en:British Overseas Territories citizen|British Overseas Territories citizen]] - [[イギリス海外領土市民]]\n*:イギリスの海外領土出身者\n*BOC:[[:en:British Overseas Citizen|British Overseas Citizen]] - [[イギリス海外市民]]\n*:ギリシャ西岸の諸島・インド・パキスタン・マレーシアなどの旧植民地出身者のうち特殊な歴史的経緯のある者\n*GBS:[[:en:British Subject|British Subject]] - [[イギリス臣民]]\n*:アイルランド（北部以外）・ジブラルタルなどイギリス海外領土市民やイギリス海外市民とは別の経緯のある地域の住民で一定要件に該当する者\n*BNO:[[:en:British National (Overseas)|British National (Overseas)]] - [[イギリス国民（海外）]]※「BN(O)」とも書く。\n*:英国国籍で、香港の[[永住権|住民権]]も持つ人。\n*BPP:[[:en:British Protected Person|British Protected Person]] - [[イギリス保護民]]\n\nいずれの身分に属するかによって、国内での様々な取扱いで差異を生ずることがあるほか、パスポートにその区分が明示されるため、海外渡航の際も相手国により取扱いが異なることがある。例えば、日本に入国する場合、British citizen（本国人）とBritish National (Overseas)（英国籍香港人）は短期訪問目的なら[[査証]]（ビザ）不要となるが、残りの四つは数日の[[観光]]訪日であってもビザが必要となる。\n\n===言語===\n{{main|{{仮リンク|イギリスの言語|en|Languages of the United Kingdom}}}}\n[[ファイル:Anglospeak.svg|thumb|250px|世界の[[英語圏]]地域。濃い青色は英語が[[公用語]]または事実上の公用語になっている地域。薄い青色は英語が公用語であるが主要な言語ではない地域。]]\n事実上の公用語は英語（イギリス英語）でありもっとも広く使用されているが、イングランドの主に[[コーンウォール]]でコーンウォール語、ウェールズの主に北部と中部でウェールズ語、スコットランドの主に[[ローランド地方]]でスコットランド語、ヘブリディーズ諸島の一部でスコットランド・ゲール語、北アイルランドの一部で[[:en:Ulster Scots dialects|アルスター・スコットランド語]]とアイルランド語が話されており、それぞれの構成国で公用語になっている。\n\n特に、ウェールズでは1993年にウェールズ語が公用語になり、英語と同等の法的な地位を得た。2001年現在、ウェールズ人口の約20%がウェールズ語を使用し、その割合は僅かではあるが増加傾向にある。公文書や道路標識などはすべてウェールズ語と英語とで併記される。また、16歳までの義務教育においてウェールズ語は必修科目であり、ウェールズ語を主要な教育言語として使用し、英語は第二言語として扱う学校も多く存在する。\n\n===宗教===\n{{See also|イギリスの宗教}}\n10年に一度行われるイギリス政府の国勢調査によれば、2001年、[[キリスト教徒]]が71.7%、[[イスラム教徒]]が3.0%、[[ヒンドゥー教]]徒が1.0%。\n2011年、キリスト教徒59.3%、イスラム教徒4.8%、ヒンドゥー教徒が1.5%<ref>{{Cite report |publisher=Office for National Statistics |title=Religion in England and Wales 2011 |date=2012-12-11 |url=https://www.ons.gov.uk/peoplepopulationandcommunity/culturalidentity/religion/articles/religioninenglandandwales2011/2012-12-11 }}</ref>。\n\nキリスト教の内訳は、[[英国国教会]]が62%、[[カトリック]]が13%、[[長老派]]が6%、[[メソジスト]]が3%程度と推定されている<ref>『The Changing Religious Landscape of Europe』 Hans Knippenberg</ref>。\n\n===婚姻===\n婚姻の際には、夫婦同姓・複合姓・[[夫婦別姓]]のいずれも選択可能である。また[[同性結婚]]も可能である<ref>「英国・イングランドとウェールズ、同性婚を初の合法化」朝日新聞、2014年{{0}}3月29日</ref>。また、在日英国大使館においても、同性結婚登録を行うことが可能である<ref>「在日本英国大使館・領事館で同性婚登録が可能に」 週刊金曜日 2014年{{0}}6月13日</ref><ref>https://www.gov.uk/government/news/introduction-of-same-sex-marriage-at-british-consulates-overseas.ja</ref>。\n\n===移住===\n{{main|{{仮リンク|現代イギリスにおける移民|en|Modern immigration to the United Kingdom}}|{{仮リンク|イギリスにおける外国人出生者|en|Foreign-born population of the United Kingdom}}}}\n{{節スタブ}}\n===教育===\n{{main|イギリスの教育}}\nイギリスの学校教育は地域や公立・私立の別により異なるが、5歳より小学校教育が開始される。\n\n===医療===\n{{Main|イギリスの医療}}\n[[ファイル:Royal Aberdeen Children's Hospital.jpg|thumb|right|The Royal Aberdeen Children's Hospital。NHSスコットランドの小児病院]]\nイギリスの医療は各地域それぞれの[[地方分権]]型であり、公的医療とプライベート診療が存在する。公的医療は[[国民保健サービス]]（NHS）によりすべてのイギリス人に提供され、医学的必要性が認められる治療は大部分は自己負担なしであり、費用は一般税収を原資としている（[[公費負担医療]]）。NHSにはイギリス国家予算の25.2%が投じられている<ref name=\"ohe\">{{Cite report |publisher=Office of Health Economics |title=OHE Guide to UK Health and Health Care Statistics |date=2013-08 |url=https://www.ohe.org/publications/ohe-guide-uk-health-and-health-care-statistics }}</ref>。\n\n国全体にかかわる規制は、{{仮リンク|総合医療評議会|en|General Medical Council}}や{{仮リンク|看護助産評議会|en|Nursing and Midwifery Council}}や、また[[ロイヤル・カレッジ]]などの外部機関が行っている。しかし政策や現業の責務は、各地方行政区である4つの女王陛下の政府、北アイルランド政府、スコットランド政府、ウェールズ政府がそれぞれになっている。それぞれの運営するNHSは、各々の政策や優先度を持ち、施政に違いをもたらしている<ref>{{cite news |url=http://news.bbc.co.uk/1/hi/health/7586147.stm |title='Huge contrasts' in devolved NHS |work=BBC News |date=28 August 2008}}</ref><ref>{{cite news |url=http://news.bbc.co.uk/1/hi/health/7149423.stm |title=NHS now four different systems |work=BBC News |date=2 January 2008 |first=Nick |last=Triggle}}</ref>。\n\n英国はGDPの8.5%を医療に支出しており、これはOECD平均と比べて-0.5%、EU平均と比べて-1%の値であった<ref>{{cite report|title=OECD Health Data 2009&nbsp;– How Does the United Kingdom Compare |publisher=OECD}}</ref>。1979年に保健支出が急増したことにより、その値はEU平均に近くなってきている<ref>{{Cite journal|url=http://www.healthp.org/node/71|title=The NHS from Thatcher to Blair |first=Peter |last=Fisher |work=NHS Consultants Association |publisher=International Association of Health Policy |quote=The Budget ... was even more generous to the NHS than had been expected amounting to an annual rise of 7.4% above the rate of inflation for the next 5 years. This would take us to 9.4% of GDP spent on health ie around EU average.}}</ref>。WHOは2000年に英国の医療制度を欧州で15位、世界で18位と評している<ref name=\"Who2000\">{{Cite book |editor-last=Haden |editor-first=Angela |editor2-last=Campanini |editor2-first=Barbara |title=The world health report 2000&nbsp;– Health systems:improving performance |year=2000 |location=Geneva |publisher=World Health Organisation |url=http://www.who.int/whr/2000/en/whr00_en.pdf |isbn=92-4-156198-X |accessdate=5 July 2011}}</ref><ref>{{Cite journal |url=http://pages.stern.nyu.edu/~wgreene/Statistics/WHO-COMP-Study-30.pdf |title=Measuring overall health system performance for 191 countries |author=[[World Health Organization]] |publisher=New York University |accessdate=5 July 2011}}</ref>。\n\n==文化==\n{{Main|[[:en:Culture of the United Kingdom]]}}\n\n===食文化===\n{{Main|イギリス料理}}\n[[フィッシュ・アンド・チップス]]や[[ローストビーフ]]、[[ウナギのゼリー寄せ]]などが有名である。{{節スタブ}}\n\n===文学===\n[[ファイル:CHANDOS3.jpg|thumb|150px|[[ウィリアム・シェイクスピア]]]]\n{{Main|イギリス文学}}\n多くの傑作を後世に残した[[ウィリアム・シェイクスピア]]は、[[イギリス・ルネサンス演劇]]を代表する空前絶後の詩人、および劇作家と言われる。初期のイギリス文学者としては[[ジェフリー・オブ・モンマス]]や[[ジェフリー・チョーサー]]、[[トマス・マロリー]]が著名。18世紀になると[[サミュエル・リチャードソン]]が登場する。彼の作品には3つの小説の基本条件、すなわち「フィクション性および物語性、人間同士の関係（愛情・結婚など）、個人の性格や心理」といった条件が満たされていたことから、彼は「近代小説の父」と呼ばれている。\n\n19世紀の初めになると[[ウィリアム・ブレイク]]、[[ウィリアム・ワーズワース]]ら[[ロマン主義]]の詩人が活躍した。19世紀には小説分野において革新が見られ、[[ジェーン・オースティン]]、[[ブロンテ姉妹]]、[[チャールズ・ディケンズ]]、[[トーマス・ハーディ]]らが活躍した。19世紀末には、[[耽美主義]]の[[オスカー・ワイルド]]、現代の[[推理小説]]の生みの親[[アーサー・コナン・ドイル]]が登場。\n\n20世紀に突入すると、「[[サイエンス・フィクション|SF]]の父」[[ハーバート・ジョージ・ウェルズ]]、[[モダニズム]]を探求した[[デーヴィッド・ハーバート・ローレンス]]、[[ヴァージニア・ウルフ]]、預言者[[ジョージ・オーウェル]]、「ミステリーの女王」[[アガサ・クリスティ]]などが出てくる。そして近年、[[ハリー・ポッターシリーズ]]の[[J・K・ローリング]]がかつての[[J・R・R・トールキン]]のような人気を世界中で湧かせている。\n\n===哲学===\n{{Main|{{仮リンク|イギリスの哲学|en|British philosophy}}}}\n{{節スタブ}}\n*[[イギリス経験論]]\n*[[イギリス理想主義]]\n\n===音楽===\n{{Main|イギリスの音楽}}\n<!-- 音楽の欄はジャンルも影響力もバラバラの人名が並んでいるため、出典に基づいた整理が必要 -->\n[[クラシック音楽]]における特筆すべきイギリス人作曲家として、「ブリタニア音楽の父」[[ウィリアム・バード]]、[[ヘンリー・パーセル]]、[[エドワード・エルガー]]、[[アーサー・サリヴァン]]、[[レイフ・ヴォーン・ウィリアムズ]]、[[ベンジャミン・ブリテン]]がいる。特に欧州大陸で古典派、ロマン派が隆盛をきわめた18世紀後半から19世紀にかけて有力な作曲家が乏しかった時期もあったが、旺盛な経済力を背景に演奏市場としては隆盛を続け、ロンドンはクラシック音楽の都の一つとして現在残る。ドイツのオーケストラが地方中都市の団体でも四管フル編成を原則としているのに対し、ロンドン5大オーケストラは長年[[BBC交響楽団]]を除き（現在は[[ロンドン交響楽団]]も）総員70名台の中規模編成を貫き、大曲演奏に際してはフリー奏者を臨時補充するなどの形であったにも関わらず、それなりの世界的声価を維持してきた。一時はメンバーの共有も見られ、映画音楽の仕事が多いことが批判されることもあるものの、持ち前の合理主義によって、少なくとも英語圏では随一のクラシック演奏都市であり続けている。オペラはロンドンに[[ロイヤル・オペラ・ハウス|コヴェントガーデン王立歌劇場]]と、[[イングリッシュ・ナショナルオペラ]]を擁し、後者は世界手も珍しい英訳上演主義の団体である。\n\n====ポピュラー音楽====\n[[ファイル:The Fabs.JPG|thumb|200px|[[ビートルズ]]]]\n{{Main|ロック (音楽)|{{仮リンク|ブリティッシュロック|en|British rock}}}}\n[[ポピュラー音楽]]（特にロックミュージック）において、イギリスは先鋭文化の発信地として世界的に有名である。1960、70年代になると[[ロック (音楽)|ロック]]が誕生し、中でも[[ビートルズ]]や[[ローリング・ストーンズ]]といった[[ロックンロール]]の影響色濃いバンドが、その表現の先駆者として活躍した。やがて[[キング・クリムゾン]]や[[ピンク・フロイド]]などの[[プログレッシブ・ロック]]や、[[クイーン (バンド)|クイーン]]、[[クリーム (バンド)|クリーム]]、[[レッド・ツェッペリン]]、[[ディープ・パープル]]、[[ブラック・サバス]]などの[[R&B]]や[[ハードロック]]がロックの更新に貢献。1970年代後半の[[パンク・ロック]]の勃興においては、アメリカ・ニューヨークからの文化を取り入れ、ロンドンを中心に[[セックス・ピストルズ]]、[[ザ・クラッシュ]]らが国民的なムーブメントを起こす。\n\nパンク・ロック以降はインディー・ロックを中心に[[ニュー・ウェイヴ (音楽)|ニュー・ウェイヴ]]などといった新たな潮流が生まれ、[[テクノポップ]]・ドラッグミュージック文化の発達と共に[[ニュー・オーダー]]、[[ザ・ストーン・ローゼズ]]、[[グリッド]]などが、メインストリームでは[[デュラン・デュラン]]、[[デペッシュ・モード]]らの著名なバンドが生まれた。90年代は[[ブリットポップ]]や[[エレクトロニカ]]がイギリスから世界中に広まり人気を博し、[[オアシス (バンド)|オアシス]]、[[ブラー]]、[[レディオヘッド]]、[[プロディジー]]、[[マッシヴ・アタック]]などは特に目覚ましい。[[シューゲイザー]]、[[トリップホップ]]、[[ビッグビート]]などといった多くの革新的音楽ジャンルも登場した。近年では[[エイミー・ワインハウス]]、[[マクフライ]]、[[コールドプレイ]]、[[スパイス・ガールズ]]らがポップシーンに名を馳せた。\n\nイギリスではロックやポップなどのポピュラー音楽が、国内だけでなく世界へ大きな市場を持つ主要な[[外貨]]獲得興業となっており、トニー・ブレア政権下などではクール・ブリタニアでロックミュージックに対する国策支援などが行われたりなど、その重要度は高い。アメリカ合衆国と共にカルチャーの本山として世界的な影響力を保ち続け、他国のポピュラー音楽産業の潮流への先駆性は、近年もいささかも揺るがない。\n\n===映画===\n{{Main|イギリスの映画}}\n{{節スタブ}}\n\n===コメディ===\nイギリス人はユーモアのセンスが高いと言われている。また、コメディアンの多くは高学歴である。\n*[[ローワン・アトキンソン]]\n*[[チャールズ・チャップリン]]\n*[[ピーター・セラーズ]]\n*[[モンティ・パイソン]]\n*[[リック・ウェイクマン]] （但し、本職は[[ミュージシャン]]）\n\n===国花===\n[[国花]]はそれぞれの地域が持っている。\n*イングランドは[[バラ]]\n*ウェールズは[[ラッパスイセン]]（[[スイセン]]の1種）。[[リーキ]]もより歴史のあるシンボルだが、リーキは花ではない。\n*北アイルランドは[[シャムロック]]\n*スコットランドは[[アザミ]]\n\n===世界遺産===\nイギリス国内には、[[国際連合教育科学文化機関|ユネスコ]]の[[世界遺産]]リストに登録された文化遺産が21件、自然遺産が5件ある。詳細は、[[イギリスの世界遺産]]を参照。\n<gallery>\nPalaceOfWestminsterAtNight.jpg|ウェストミンスター宮殿\nWestminster Abbey - West Door.jpg|[[ウェストミンスター寺院]]\nEdinburgh Cockburn St dsc06789.jpg|[[エディンバラ旧市街|エディンバラの旧市街]]・[[エディンバラ新市街|新市街]]\nCanterbury Cathedral - Portal Nave Cross-spire.jpeg|[[カンタベリー大聖堂]]\nKew Gardens Palm House, London - July 2009.jpg|[[キューガーデン|キュー王立植物園]]\n2005-06-27 - United Kingdom - England - London - Greenwich.jpg|[[グリニッジ|マリタイム・グリニッジ]]\nStonehenge2007 07 30.jpg|[[ストーンヘンジ]]\nYard2.jpg|[[ダラム城]]\nDurham Kathedrale Nahaufnahme.jpg|[[ダラム大聖堂]]\nRoman Baths in Bath Spa, England - July 2006.jpg|[[バース市街]]\nFountains Abbey view02 2005-08-27.jpg|[[ファウンテンズ修道院]]跡を含む[[スタッドリー王立公園]]\nBlenheim Palace IMG 3673.JPG|[[ブレナム宮殿]]\nLiverpool Pier Head by night.jpg|[[海商都市リヴァプール]]\nHadrian's Wall view near Greenhead.jpg|[[ローマ帝国の国境線]] ([[ハドリアヌスの長城]])\nLondon Tower (1).JPG|[[ロンドン塔]]\n</gallery>\n\n===祝祭日===\n祝祭日は、イングランド、ウェールズ、スコットランド、北アイルランドの各政府により異なる場合がある。銀行など多くの企業が休みとなることから、国民の祝祭日をバンク・ホリデー({{interlang|en|Bank holiday}})（銀行休業日）と呼ぶ。\n{|class=\"wikitable\"\n!日付!!日本語表記!!現地語表記!!備考\n|-\n|1月{{0}}1日||[[元日]]||{{lang|en|New Year's Day}}||\n|-\n|1月{{0}}2日||元日翌日||-||スコットランドのみ\n|-\n|3月17日||[[聖パトリックの祝日|聖パトリックの日]]||{{lang|en|St. Patrick's Day}}||北アイルランドのみ\n|-\n|3月 - 4月||[[聖金曜日]]||{{lang|en|Good Friday}}||移動祝日\n|-\n|3月 - 4月||[[復活祭]]月曜日||{{lang|en|Easter Monday}}||移動祝日\n|-\n|5月第1月曜日||[[五月祭]]||{{lang|en|Early May Bank Holiday}}||移動祝日\n|-\n|5月最終月曜日||五月祭終り||{{lang|en|Spring Bank Holiday}}||移動祝日\n|-\n|7月12日||[[ボイン川の戦い]]記念日||{{lang|en|Battle of the Boyne (Orangemen's Day)}}||北アイルランドのみ\n|-\n|8月第1月曜日||夏季銀行休業日||{{lang|en|Summer Bank Holiday}}||移動祝日、スコットランドのみ\n|-\n|8月最終月曜日||夏季銀行休業日||{{lang|en|Summer Bank Holiday}}||移動祝日、スコットランドを除く\n|-\n|12月25日||[[クリスマス]]||{{lang|en|Christmas Day}}||\n|-\n|12月26日||[[ボクシング・デー]]||{{lang|en|Boxing Day}}||\n|}\n*聖金曜日を除く移動祝日は原則的に月曜日に設定されている。\n*ボクシング・デー後の2日も銀行休業日であったが2005年を最後に廃止されている。\n\n===スポーツ===\n{{main|{{仮リンク|イギリスのスポーツ|en|Sport in the United Kingdom}}}}\n[[ファイル:Wembley Stadium, illuminated.jpg|thumb|220px|[[ウェンブリー・スタジアム]]]]\nイギリスは[[サッカー]]、[[ラグビー]]、[[クリケット]]、[[ゴルフ]]、[[ボクシング]]など多くの競技が発祥もしくは近代スポーツとして整備された地域であり、国技としても定着している。年間観客動員数は4000万人以上を集めるサッカーが他を大きく凌いでおり、[[競馬]]の600万人、ユニオンラグビーの300万、クリケット200万がそれに続く。\n\nこのうち団体球技（サッカー、ラグビー、クリケット）は発祥地域の伝統的な配慮から国際競技団体ではイギリス単体ではなく、イングランド、スコットランド、ウェールズ、北アイルランド（ラグビーに関してはアイルランドにまとめている）の4地域それぞれの加盟を認めているが、サッカーが公式なプログラムとして行われている[[近代オリンピック]]では単一国家としての出場が大原則であるため、長年出場していなかった。しかし2012年の開催が内定した[[ロンドンオリンピック (2012年)|ロンドン五輪]]では4協会が一体となった統一イギリス代表としてエントリーした。またイギリスの首都であるロンドンで[[夏季オリンピック]]を行ったのは、1948年以来64年ぶりである。ただし[[野球]]においては早くから[[野球イギリス代表|英国代表]]として、[[欧州野球選手権]]や[[ワールド・ベースボール・クラシック|WBC]]などに統一ナショナルチームを送り出している。\n\n====サッカー====\n{{main|{{仮リンク|イギリスのサッカー|en|Football in England}}}}\n数多くのスポーツを誕生させたイギリスでも取り分け人気なのがサッカーである。イギリスでサッカーは「'''フットボール'''」と呼び、近代的なルールを確立したことから「'''近代サッカーの母国'''」と呼ばれ、それぞれの地域に独自のサッカー協会がある。イギリス国内でそれぞれ独立した形でサッカーリーグを展開しており、中でもイングランドの[[プレミアリーグ]]は世界的に人気である。[[フットボール・アソシエーション|イングランドサッカー協会]] (FA) などを含むイギリス国内の地域協会は全て、[[国際サッカー連盟]] (FIFA) よりも早くに発足しており、FIFA加盟国では唯一特例で国内の地域単位での加盟を認められている(以降、FIFAは海外領土など一定の自治が行われている地域協会を認可している)。その為、FIFAや[[欧州サッカー連盟]]（UEFA）が主宰する各種国際大会（[[FIFAワールドカップ]]・[[UEFA欧州選手権]]・[[UEFAチャンピオンズリーグ]]・[[UEFAカップ]]・[[FIFA U-20ワールドカップ]]や[[UEFA U-21欧州選手権]]などの年代別国際大会）には地域協会単位でのクラブチームやナショナルチームを参加させており、さらには7人いるFIFA副会長の一人はこの英本土4協会から選ばれる、サッカーのルールや重要事項に関しては、FIFAと英本土4協会で構成する[[国際サッカー評議会]]が決定するなど特権的な地位が与えられている。また、サッカー選手や監督がプロ競技における傑出した実績によって一代限りの騎士や勲爵士となることがある（[[デビッド・ベッカム]]、[[スティーヴン・ジェラード]]や[[ボビー・ロブソン]]、[[アレックス・ファーガソン]]など）。\n\nまた、サッカーはもともとラグビーと同じく中流階級の師弟が通う[[パブリックスクール]]で近代競技として成立したが、その過程は労働者階級の娯楽として発展していった。ただ、当時のイギリスの継続的な不況からくる労働者階級の人口の割合と、それ以外の階級者も観戦していたということを注意しなければならない。労働者階級がラグビーよりもサッカーを好んでいたとされる理由として、[[フーリガン]]というあまり好ましくない暴力的なファンの存在が挙げられることもある。ただ、相次ぐフーリガン絡みの事件や事故を重く見た政府は1980年代にフーリガン規制法を制定し、スタジアムの大幅な安全基準の見直しなどを行った。各スタジアムの試合運営スタッフがスタジアムの至る所に監視カメラを設置し、特定のサポーター（フーリガン）に対する厳重な監視や入場制限を行っている。そのような取り組みの結果、スタジアムではそれまで頻発していたフーリガン絡みの事件や事故の件数が大幅に減少した。\n*2007-2008シーズンにおけるイングランドサッカー入場者数<ref>2008年12月10日付けの日本経済新聞</ref>\n**プレミアリーグ 1370万8875人\n**[[フットボールリーグ・チャンピオンシップ|チャンピオンシップ]] 939万7036人\n**[[フットボールリーグ1]] 441万2023人\n**[[フットボールリーグ2]] 239万6278人\n**[[FAカップ]] 201万1320人\n**[[フットボールリーグカップ|リーグカップ]] 133万2841人\n**[[UEFAチャンピオンズ・リーグ|CL]] 122万0127人\n**UEFAカップ 46万2002人\n**総動員数 3494万人\n\n====クリケット====\nクリケットは全面芝のフィールドでプレイされ、試合中には[[ティー]]タイムもある。その優雅な雰囲気から、別名「紳士のスポーツ」といわれる。イギリスでは[[上流階級]]がたしなむスポーツとされており、[[イートン]]などの名門校の体育ではクリケットは必修種目とされている。16世紀にイングランド南部で初めてプレーされた。18世紀末までには、イングランドの国民的スポーツへと発展した。大英帝国の拡大によってクリケットは海外でプレーされるようになり、19世紀中頃までには初の国際試合が開催された。イングランドは[[国際クリケット評議会]]（ICC）のフルメンバーである。[[クリケット・ワールドカップ]]は[[FIFAワールドカップ]]と[[夏季オリンピック]]に次いで世界で3番目に視聴者数の多いスポーツイベントであり<ref>[https://www.theguardian.com/sport/blog/2015/feb/12/cricket-world-cup-icc-50-overs More money, more viewers and fewer runs in prospect for intriguing World Cup More money, more viewers and fewer runs in prospect for intriguing World Cup] The Guardian 2019年7月15日閲覧。</ref>、自国開催の[[2019 クリケット・ワールドカップ|2019年]]大会では[[クリケットイングランド代表|イングランド代表]]が初優勝した<ref>[https://www.theguardian.com/sport/live/2019/jul/14/new-zealand-v-england-cricket-world-cup-final-2019-live England beat New Zealand in thrilling Cricket World Cup final – as it happened!] The Guardian 2019年7月18日閲覧。</ref>。女子イングランド代表は[[女子クリケット・ワールドカップ|ワールドカップ]]で4度の優勝経験を誇る。ロンドンにある[[ローズ・クリケット・グラウンド]]はクリケットの聖地と呼ばれ、ワールドカップの決勝戦などが催された。国内リーグは[[カウンティ・チャンピオンシップ]]があり、イングランド所在の17クラブ及びウェールズ所在の1クラブ、合計18クラブにより編成される。\n\n====競馬====\n{{main|イギリスの競馬}}\n近代競馬発祥の地でもある。18世紀ゴルフに次いでスポーツ組織として[[ジョッキークラブ]]が組織され、同時期に[[サラブレッド]]も成立した。どちらかと言えば[[平地競走]]よりも[[障害競走]]の方が盛んな国であり、\"Favourite 100 Horses\"（好きな馬100選）では[[アークル]]を初め障害馬が上位を独占した。障害の[[チェルトナムフェスティバル]]や[[グランドナショナルミーティング]]は15～25万人もの観客動員数がある。特に最大の競走であるG3[[グランドナショナル]]の売り上げは700億円近くになり、2007年現在世界で最も馬券を売り上げる競走になっている。平地競走は、[[ダービーステークス|イギリスダービー]]、[[イギリス王室|王室]]開催の[[ロイヤルアスコット開催]]が知られ、こちらも14～25万人の観客を集める。ダービーは、この競走を冠した競走が競馬を行っている国には必ずと言っていい程存在しており世界で最も知られた競走といって良いだろう。エリザベス女王も競馬ファンとして知られており、自身何頭も競走馬を所有している。\n\nイギリスでは、日本などと違い競馬など特定の競技だけでなく全てのスポーツがギャンブルの対象となるが、売り上げはやはり競馬とサッカーが多い。競馬は1970年代を頂点に人気を失いつつあったが、後に急速に観客動員数が持ち直す傾向にある。売上高も2兆円を超え、人口当りの売り上げは香港を除けばオーストラリアに次ぐ。しかし、売り上げの多く（2003年で97.1%）が主催者側と関係のない[[ブックメーカー]]に占められるという構造的な課題がある。なお、イギリス人はどんな小さな植民地にも大抵の場合は競馬場を建設したため、独立後も旧イギリス領は競馬が盛んな国が多い。また、[[馬術]]も盛んであり、馬術のバドミントンは3日間で15万人以上の観客動員数がある。\n\n====モータースポーツ====\nイギリスは、[[モータースポーツ]]発祥の地としても知られる。[[フォーミュラ1]]（F1）では多数のチャンピオンドライバーを生み出している。最近では、2009年世界チャンピオンに[[ジェンソン・バトン]]、そして2008、2014、2015、2017、2018、2019年世界チャンピオンに６度[[ルイス・ハミルトン]]が輝き、あと1回世界チャンピオンになれば、[[ミハエル・シューマッハ]]のもつ７度の記録と並ぶことになる。\n\n過去には[[チーム・ロータス|ロータス]]や[[ティレル]]、現在も[[マクラーレン]]、[[ウィリアムズF1|ウィリアムズ]]といった数多くの名門レーシングチームが本拠を置き、車両の設計製造において常に最先端を行く。\n\nイベントにも歴史があり、1926年に初開催された[[イギリスグランプリ]]は最も古いグランプリレースのひとつである。1950年に始まったF1グランプリはイギリスグランプリを第1戦とした。また[[世界ラリー選手権]]の一戦として組み込まれているラリー・グレート・ブリテン（1933年初開催）も同シリーズの中でもっとも古いイベントの一つである。\n\n====野球====\n{{main|ナショナルリーグ (イギリスの野球)}}\n知名度は低いが、1890年に[[ブリティッシュ・ベースボール・リーグ]]という野球リーグが誕生している。[[IBAFワールドカップ]]の[[ジョン・ムーアズ・トロフィー|第1回大会]]では、アメリカ合衆国との二カ国対抗戦という形ではあったが、5回戦制のこの大会を4勝1敗で勝ち、最初の優勝国となっている。2012年{{0}}9月には、[[2013 ワールド・ベースボール・クラシック|第3回WBC]]予選に出場している。\n\n==== カーリング ====\nあまり知られてはいないが、イギリスはカーリングの強豪国でもある。<ref>「[http://www.curling.or.jp/newinfo/newrankings.html 世界ランク男女]」</ref>\n\n==== 自転車競技 ====\n国内での人気はサッカーなどには劣るが、[[ロードレース (自転車競技)|ロードレース]]や[[トラックレース]]では世界でも[[フランス]]、[[スペイン]]、[[イタリア]]と肩を並べる強豪国である。ロードレースでは2012年に[[ブラッドリー・ウィギンス]]が[[ツール・ド・フランス2012|ツール・ド・フランス]]を英国人として初めて制覇し、[[クリス・フルーム]]が2013年、2015年-2017年と同大会で総合優勝し、また2017年には[[ブエルタ・ア・エスパーニャ2017|ブエルタ・ア・エスパーニャ]]を、2018年には[[ジロ・デ・イタリア2018|ジロ・デ・イタリア]]を制覇し、[[グランツール]]と呼ばれる世界三大大会を年を跨いで連続制覇した史上3人目の選手となるなど近年目覚ましい活躍を見せている。トラックレースでもウィギンスや[[ゲラント・トーマス]]、[[エド・クランシー]]らが[[世界選手権自転車競技大会|世界選手権]]や[[オリンピック]]で数々のメダルを獲得している。\n\n==脚注==\n{{脚注ヘルプ}}\n{{Reflist|2}}\n\n==関連項目==\n*[[イギリス関係記事の一覧]]\n\n==外部リンク==\n{{ウィキポータルリンク|イギリス}}\n{{Sisterlinks|commons=United Kingdom|commonscat=United Kingdom|s=Category:イギリス|n=Category:イギリス|voy=United Kingdom}}\n;本国政府\n*[https://www.royal.uk/ 英国王室（The British Monarchy）] {{en icon}}\n**{{Facebook|TheBritishMonarchy|The British Monarchy}} {{en icon}}\n**{{Twitter|BritishMonarchy|BritishMonarchy}} {{en icon}}\n**{{flickr|photos/britishmonarchy/|The British Monarchy}} {{en icon}}\n**{{YouTube|user=TheRoyalChannel|The British Monarchy}} {{en icon}}\n*[https://www.gov.uk/ 英国政府（GOV.UK）] {{en icon}}\n*[https://www.gov.uk/government/organisations/prime-ministers-office-10-downing-street 英国首相府（Prime Minister's Office, 10 Downing Street）] {{en icon}}\n**{{Facebook|10downingstreet|10 Downing Street}} {{en icon}}\n**{{Twitter|@Number10gov|UK Prime Minister}} {{en icon}}\n**{{Twitter|@Number10press|No.10 Press Office}} {{en icon}}\n**{{flickr|photos/number10gov|Number 10}} {{en icon}}\n**{{Pinterest|number10gov|UK Prime Minister}} {{en icon}}\n**{{YouTube|user=Number10gov|Number10gov|films and features from Downing Street and the British Prime Minister}} {{en icon}}\n**{{YouTube|user=DowningSt|Downing Street|archive footage from Downing Street and past British Prime Ministers}} {{en icon}}\n*[https://www.gov.uk/government/world/japan.ja UK and Japan (UK and the world - GOV.UK)] {{ja icon}}{{en icon}}\n**[https://www.gov.uk/government/world/organisations/british-embassy-tokyo.ja 駐日英国大使館（GOV.UK）] {{ja icon}}{{en icon}}\n***{{Facebook|ukinjapan|British Embassy Tokyo}} {{ja icon}}{{en icon}}※使用言語は個々の投稿による\n***{{Twitter|UKinJapan|BritishEmbassy英国大使館}} {{ja icon}}{{en icon}}※使用言語は個々の投稿による\n***{{flickr|photos/uk-in-japan|UK in Japan- FCO}} {{en icon}}\n***{{YouTube|user=UKinJapan|UKinJapan|British Embassy in Japan}} {{en icon}}\n*[https://www.gov.uk/government/organisations/uk-visas-and-immigration UK Visas and Immigration (GOV.UK)] {{en icon}}\n**[https://www.vfsglobal.co.uk/ja-jp 英国ビザ申請センター] - VFS Global Japan (上記「UK Visas and Immigration」日本地区取扱代行サイト) {{ja icon}}{{en icon}}\n;日本政府内\n*[https://www.mofa.go.jp/mofaj/area/uk/ 日本外務省 - 英国] {{ja icon}}\n*[https://www.uk.emb-japan.go.jp/ 在英国日本国大使館] {{ja icon}}\n;観光\n*[https://www.visitbritain.com/jp/ja 英国政府観光庁（日本語版サイト）] {{ja icon}}\n**{{Facebook|LoveGreatBritain|Love GREAT Britain}} {{en icon}}\n;その他\n*[https://www.jetro.go.jp/world/europe/uk/ JETRO - 英国] {{ja icon}}\n*{{CIA World Factbook link|uk|United Kingdom}} {{en icon}}\n*{{dmoz|Regional/Europe/United_Kingdom}} {{en icon}}\n*{{wikiatlas|United Kingdom}} {{en icon}}\n*{{Osmrelation|62149}}\n\n{{Normdaten}}\n{{イギリス関連の項目}}\n{{ヨーロッパ}}\n{{国連安全保障理事会理事国}}\n{{G8}}\n{{OECD}}\n{{イギリス連邦}}\n{{EU|1973年 - 2020年}}\n{{CPLP}}\n{{デフォルトソート:いきりす}}\n[[Category:イギリス|*]]\n[[Category:イギリス連邦加盟国]]\n[[Category:英連邦王国|*]]\n[[Category:G8加盟国]]\n[[Category:欧州連合加盟国|元]]\n[[Category:海洋国家]]\n[[Category:現存する君主国]]\n[[Category:島国]]\n[[Category:1801年に成立した国家・領域]]\n"
    }
   ],
   "source": [
    "import json\n",
    "import gzip\n",
    "\n",
    "with gzip.open('./in/jawiki-country.json.gz', 'r') as f:\n",
    "    for i in f:\n",
    "        article = json.loads(i)\n",
    "        if article['title'] == 'イギリス':\n",
    "            print(article['text'])"
   ]
  },
  {
   "cell_type": "markdown",
   "metadata": {},
   "source": [
    "## 21. カテゴリ名を含む行を抽出\n",
    "記事中でカテゴリ名を宣言している行を抽出せよ．"
   ]
  },
  {
   "cell_type": "code",
   "execution_count": 81,
   "metadata": {},
   "outputs": [
    {
     "output_type": "stream",
     "name": "stdout",
     "text": "[[Category:イギリス|*]]\n[[Category:イギリス連邦加盟国]]\n[[Category:英連邦王国|*]]\n[[Category:G8加盟国]]\n[[Category:欧州連合加盟国|元]]\n[[Category:海洋国家]]\n[[Category:現存する君主国]]\n[[Category:島国]]\n[[Category:1801年に成立した国家・領域]]\n"
    }
   ],
   "source": [
    "import json\n",
    "import gzip\n",
    "import re\n",
    "\n",
    "def get_article(country):\n",
    "    with gzip.open('./in/jawiki-country.json.gz', 'r') as f:\n",
    "        for i in f:\n",
    "            article = json.loads(i)\n",
    "            if article['title'] == country:\n",
    "                return article['text']\n",
    "    return {}\n",
    "\n",
    "article = get_article('イギリス')\n",
    "for line in article.split('\\n'):\n",
    "    if re.search(r'\\[\\[Category:.*\\]\\]', line):\n",
    "        print(line)"
   ]
  },
  {
   "cell_type": "markdown",
   "metadata": {},
   "source": [
    "## 22. カテゴリ名の抽出\n",
    "記事のカテゴリ名を（行単位ではなく名前で）抽出せよ．"
   ]
  },
  {
   "cell_type": "code",
   "execution_count": 80,
   "metadata": {},
   "outputs": [
    {
     "output_type": "stream",
     "name": "stdout",
     "text": "イギリス|*\nイギリス連邦加盟国\n英連邦王国|*\nG8加盟国\n欧州連合加盟国|元\n海洋国家\n現存する君主国\n島国\n1801年に成立した国家・領域\n"
    }
   ],
   "source": [
    "import json\n",
    "import gzip\n",
    "import re\n",
    "\n",
    "def get_article(country):\n",
    "    with gzip.open('./in/jawiki-country.json.gz', 'r') as f:\n",
    "        for i in f:\n",
    "            article = json.loads(i)\n",
    "            if article['title'] == country:\n",
    "                return article['text']\n",
    "    return {}\n",
    "\n",
    "article = get_article('イギリス')\n",
    "for line in article.split('\\n'):\n",
    "    mat = re.search(r'\\[\\[Category:(.*)\\]\\]', line)\n",
    "    if mat:\n",
    "        print(mat[1])"
   ]
  },
  {
   "cell_type": "markdown",
   "metadata": {},
   "source": [
    "## 23. セクション構造\n",
    "記事中に含まれるセクション名とそのレベル（例えば”== セクション名 ==”なら1）を表示せよ．"
   ]
  },
  {
   "cell_type": "code",
   "execution_count": 79,
   "metadata": {},
   "outputs": [
    {
     "output_type": "stream",
     "name": "stdout",
     "text": "1 国名\n1 歴史\n1 地理\n2 主要都市\n2 気候\n1 政治\n2 元首\n2 法\n2 内政\n2 地方行政区分\n2 外交・軍事\n1 経済\n2 鉱業\n2 農業\n2 貿易\n2 不動産\n2 エネルギー政策\n2 通貨\n2 企業\n3 通信\n1 交通\n2 道路\n2 鉄道\n2 海運\n2 航空\n1 科学技術\n1 国民\n2 言語\n2 宗教\n2 婚姻\n2 移住\n2 教育\n2 医療\n1 文化\n2 食文化\n2 文学\n2 哲学\n2 音楽\n3 ポピュラー音楽\n2 映画\n2 コメディ\n2 国花\n2 世界遺産\n2 祝祭日\n2 スポーツ\n3 サッカー\n3 クリケット\n3 競馬\n3 モータースポーツ\n3 野球\n3 カーリング\n3 自転車競技\n1 脚注\n1 関連項目\n1 外部リンク\n"
    }
   ],
   "source": [
    "import json\n",
    "import gzip\n",
    "import re\n",
    "\n",
    "def get_article(country):\n",
    "    with gzip.open('./in/jawiki-country.json.gz', 'r') as f:\n",
    "        for i in f:\n",
    "            article = json.loads(i)\n",
    "            if article['title'] == country:\n",
    "                return article['text']\n",
    "    return {}\n",
    "\n",
    "article = get_article('イギリス')\n",
    "for line in article.split('\\n'):\n",
    "    mat = re.match(r'(==+)([^=]*)\\1', line)\n",
    "    if mat:\n",
    "        print(len(mat[1]) - 1, mat[2].strip())"
   ]
  },
  {
   "cell_type": "markdown",
   "metadata": {},
   "source": [
    "## 24. ファイル参照の抽出\n",
    "記事から参照されているメディアファイルをすべて抜き出せ．"
   ]
  },
  {
   "cell_type": "code",
   "execution_count": 78,
   "metadata": {
    "tags": [
     "outputPrepend"
    ]
   },
   "outputs": [
    {
     "output_type": "stream",
     "name": "stdout",
     "text": "[[ファイル:Royal Coat of Arms of the United Kingdom.svg|85px|イギリスの国章]]\n[[ファイル:United States Navy Band - God Save the Queen.ogg]]\n[[ファイル:Descriptio Prime Tabulae Europae.jpg|thumb|left|[[クラウディオス・プトレマイオス|プトレマイオス]]の『[[地理学 (プトレマイオス)|地理学]]』に基づく地図、アルビオンと[[:en:Hibernia|ヒベルニア]]（現在のアイルランド）の文字が見える]]\n[[ファイル:Lenepveu, Jeanne d'Arc au siège d'Orléans.jpg|thumb|left|[[ジャンヌ・ダルク]]]]\n[[ファイル:London.bankofengland.arp.jpg|thumb|[[イングランド銀行]]]]\n[[ファイル:Battle of Waterloo 1815.PNG|thumb|ユグノーから[[:en:Baron Northwick|ノースウィック男爵]]が出た頃、イギリスは[[対仏大同盟]]の主役であった。連合国が[[ワーテルローの戦い]]で勝利し、[[ナポレオン戦争]]が終息した。こうして[[パクス・ブリタニカ]]の時代が到来した。]]\n[[ファイル:Uk topo en.jpg|thumb|200px|イギリスの地形図]]\n[[ファイル:BenNevis2005.jpg|thumb|[[ブリテン諸島]]最高峰の[[ベン・ネビス山]]]]\n[[ファイル:Population density UK 2011 census.png|thumb|right|人口分布（2011年）]]\n[[ファイル:2019 Greenwich Peninsula & Canary Wharf.jpg|150px]]<br /><small>[[ロンドン]]</small><br />[[ファイル:Birmingham Skyline from Edgbaston Cricket Ground crop.jpg|150px]]<br /><small>[[バーミンガム]]\n[[ファイル:Leeds CBD at night.jpg|150px]]<br /><small>[[リーズ]]</small><br />[[ファイル:Glasgow and the Clyde from the air (geograph 4665720).jpg|150px]]<br /><small>[[グラスゴー]]\n[[ファイル:Palace of Westminster, London - Feb 2007.jpg|thumb|[[イギリスの議会|英国議会]]が議事堂として使用する[[ウェストミンスター宮殿]]]]\n[[ファイル:Scotland Parliament Holyrood.jpg|thumb|[[スコットランド議会]]議事堂]]\n[[ファイル:Donald Trump and Theresa May (33998675310) (cropped).jpg|thumb|left|[[2017年]][[1月27日]]、就任直後の[[ドナルド・トランプ]]米大統領（右）と[[ホワイトハウス]]で会談する[[テリーザ・メイ]]元英首相（左）]]\n[[ファイル:Soldiers Trooping the Colour, 16th June 2007.jpg|thumb|軍旗分列行進式における[[近衛兵 (イギリス)|近衛兵]]]]\n[[ファイル:City of London skyline from London City Hall - Oct 2008.jpg|thumb|250px|ロンドンは2016年に発表された「世界の都市総合力ランキング」において、世界1位と評価された<ref>[http://www.mori-m-foundation.or.jp/ius/gpci/ 世界の都市総合力ランキング(GPCI) 2016] 森記念財団都市戦略研究所 2016年10月31日閲覧。</ref>]]\n[[ファイル:Oil platform in the North SeaPros.jpg|thumb|[[北海油田]]]]\n[[ファイル:Eurostar at St Pancras Jan 2008.jpg|thumb|国際列車[[ユーロスター]]の発着駅である[[セント・パンクラス駅]]]]\n[[ファイル:Heathrow Terminal 5C Iwelumo-1.jpg|thumb|[[:en:London Heathrow Terminal 5|London Heathrow Terminal 5]]. [[ロンドン・ヒースロー空港]]は[[:en:World's busiest airports by international passenger traffic|国際線利用客数]]では世界随一である。]][[ファイル:Airbus A380-841 G-XLEB British Airways (10424102995).jpg|thumb|ブリティッシュ・エアウェイズ (イギリス最大の航空会社)]]\n[[ファイル:UKpop.svg|thumb|right|イギリスの[[人口ピラミッド]]]]\n[[ファイル:Anglospeak.svg|thumb|250px|世界の[[英語圏]]地域。濃い青色は英語が[[公用語]]または事実上の公用語になっている地域。薄い青色は英語が公用語であるが主要な言語ではない地域。]]\n[[ファイル:Royal Aberdeen Children's Hospital.jpg|thumb|right|The Royal Aberdeen Children's Hospital。NHSスコットランドの小児病院]]\n[[ファイル:CHANDOS3.jpg|thumb|150px|[[ウィリアム・シェイクスピア]]]]\n[[ファイル:The Fabs.JPG|thumb|200px|[[ビートルズ]]]]\n[[ファイル:Wembley Stadium, illuminated.jpg|thumb|220px|[[ウェンブリー・スタジアム]]]]\n"
    }
   ],
   "source": [
    "import json\n",
    "import gzip\n",
    "import re\n",
    "\n",
    "def get_article(country):\n",
    "    with gzip.open('./in/jawiki-country.json.gz', 'r') as f:\n",
    "        for i in f:\n",
    "            article = json.loads(i)\n",
    "            if article['title'] == country:\n",
    "                return article['text']\n",
    "    return {}\n",
    "\n",
    "article = get_article('イギリス')\n",
    "for line in article.split('\\n'):\n",
    "    mat = re.search(r'(\\[\\[ファイル:.*\\]\\])', line)\n",
    "    if mat:\n",
    "        print(mat[1])"
   ]
  },
  {
   "cell_type": "markdown",
   "metadata": {},
   "source": [
    "## 25. テンプレートの抽出\n",
    "記事中に含まれる「基礎情報」テンプレートのフィールド名と値を抽出し，辞書オブジェクトとして格納せよ．"
   ]
  },
  {
   "cell_type": "code",
   "execution_count": 117,
   "metadata": {
    "tags": [
     "outputPrepend"
    ]
   },
   "outputs": [
    {
     "output_type": "execute_result",
     "data": {
      "text/plain": "{'略名': 'イギリス',\n '日本語国名': 'グレートブリテン及び北アイルランド連合王国',\n '公式国名': '{{lang|en|United Kingdom of Great Britain and Northern Ireland}}<ref>英語以外での正式国名:<br />\\n*{{lang|gd|An Rìoghachd Aonaichte na Breatainn Mhòr agus Eirinn mu Thuath}}（[[スコットランド・ゲール語]]）\\n*{{lang|cy|Teyrnas Gyfunol Prydain Fawr a Gogledd Iwerddon}}（[[ウェールズ語]]）\\n*{{lang|ga|Ríocht Aontaithe na Breataine Móire agus Tuaisceart na hÉireann}}（[[アイルランド語]]）\\n*{{lang|kw|An Rywvaneth Unys a Vreten Veur hag Iwerdhon Glédh}}（[[コーンウォール語]]）\\n*{{lang|sco|Unitit Kinrick o Great Breetain an Northren Ireland}}（[[スコットランド語]]）\\n**{{lang|sco|Claught Kängrick o Docht Brätain an Norlin Airlann}}、{{lang|sco|Unitet Kängdom o Great Brittain an Norlin Airlann}}（アルスター・スコットランド語）</ref>',\n '国旗画像': 'Flag of the United Kingdom.svg',\n '国章画像': '[[ファイル:Royal Coat of Arms of the United Kingdom.svg|85px|イギリスの国章]]',\n '国章リンク': '（[[イギリスの国章|国章]]）',\n '標語': '{{lang|fr|[[Dieu et mon droit]]}}<br />（[[フランス語]]:[[Dieu et mon droit|神と我が権利]]）',\n '国歌': \"[[女王陛下万歳|{{lang|en|God Save the Queen}}]]{{en icon}}<br />''神よ女王を護り賜え''<br />{{center|[[ファイル:United States Navy Band - God Save the Queen.ogg]]}}\",\n '地図画像': 'Europe-UK.svg',\n '位置画像': 'United Kingdom (+overseas territories) in the World (+Antarctica claims).svg',\n '公用語': '[[英語]]',\n '首都': '[[ロンドン]]（事実上）',\n '最大都市': 'ロンドン',\n '元首等肩書': '[[イギリスの君主|女王]]',\n '元首等氏名': '[[エリザベス2世]]',\n '首相等肩書': '[[イギリスの首相|首相]]',\n '首相等氏名': '[[ボリス・ジョンソン]]',\n '他元首等肩書1': '[[貴族院 (イギリス)|貴族院議長]]',\n '他元首等氏名1': '[[:en:Norman Fowler, Baron Fowler|ノーマン・ファウラー]]',\n '他元首等肩書2': '[[庶民院 (イギリス)|庶民院議長]]',\n '他元首等氏名2': '{{仮リンク|リンゼイ・ホイル|en|Lindsay Hoyle}}',\n '他元首等肩書3': '[[連合王国最高裁判所|最高裁判所長官]]',\n '他元首等氏名3': '[[:en:Brenda Hale, Baroness Hale of Richmond|ブレンダ・ヘイル]]',\n '面積順位': '76',\n '面積大きさ': '1 E11',\n '面積値': '244,820',\n '水面積率': '1.3%',\n '人口統計年': '2018',\n '人口順位': '22',\n '人口大きさ': '1 E7',\n '人口値': '6643万5600<ref>{{Cite web|url=https://www.ons.gov.uk/peoplepopulationandcommunity/populationandmigration/populationestimates|title=Population estimates - Office for National Statistics|accessdate=2019-06-26|date=2019-06-26}}</ref>',\n '人口密度値': '271',\n 'GDP統計年元': '2012',\n 'GDP値元': '1兆5478億<ref name=\"imf-statistics-gdp\">[http://www.imf.org/external/pubs/ft/weo/2012/02/weodata/weorept.aspx?pr.x=70&pr.y=13&sy=2010&ey=2012&scsm=1&ssd=1&sort=country&ds=.&br=1&c=112&s=NGDP%2CNGDPD%2CPPPGDP%2CPPPPC&grp=0&a=IMF>Data and Statistics>World Economic Outlook Databases>By Countrise>United Kingdom]</ref>',\n 'GDP統計年MER': '2012',\n 'GDP順位MER': '6',\n 'GDP値MER': '2兆4337億<ref name=\"imf-statistics-gdp\" />',\n 'GDP統計年': '2012',\n 'GDP順位': '6',\n 'GDP値': '2兆3162億<ref name=\"imf-statistics-gdp\" />',\n 'GDP/人': '36,727<ref name=\"imf-statistics-gdp\" />',\n '建国形態': '建国',\n '確立形態1': '[[イングランド王国]]／[[スコットランド王国]]<br />（両国とも[[合同法 (1707年)|1707年合同法]]まで）',\n '確立年月日1': '927年／843年',\n '確立形態2': '[[グレートブリテン王国]]成立<br />（1707年合同法）',\n '確立年月日2': '1707年{{0}}5月{{0}}1日',\n '確立形態3': '[[グレートブリテン及びアイルランド連合王国]]成立<br />（[[合同法 (1800年)|1800年合同法]]）',\n '確立年月日3': '1801年{{0}}1月{{0}}1日',\n '確立形態4': \"現在の国号「'''グレートブリテン及び北アイルランド連合王国'''」に変更\",\n '確立年月日4': '1927年{{0}}4月12日',\n '通貨': '[[スターリング・ポンド|UKポンド]] (£)',\n '通貨コード': 'GBP',\n '時間帯': '±0',\n '夏時間': '+1',\n 'ISO 3166-1': 'GB / GBR',\n 'ccTLD': '[[.uk]] / [[.gb]]<ref>使用は.ukに比べ圧倒的少数。</ref>',\n '国際電話番号': '44',\n '注記': '<references/>'}"
     },
     "metadata": {},
     "execution_count": 117
    }
   ],
   "source": [
    "import json\n",
    "import gzip\n",
    "import re\n",
    "\n",
    "def get_article(country):\n",
    "    with gzip.open('./in/jawiki-country.json.gz', 'r') as f:\n",
    "        for i in f:\n",
    "            article = json.loads(i)\n",
    "            if article['title'] == country:\n",
    "                return article['text']\n",
    "    return {}\n",
    "\n",
    "article = get_article('イギリス')\n",
    "mat = re.search(r'\\{\\{基礎情報.*?\\|(.*?)\\n\\}\\}\\n', article, re.DOTALL).group(1)\n",
    "\n",
    "res = {}\n",
    "for kv in mat.split('\\n|'):\n",
    "    mat2 = re.match(r'\\s*(.*?)\\s*=\\s*(.*)\\s*', kv, re.DOTALL | re.MULTILINE)\n",
    "    if mat2:\n",
    "        k, v = mat2[1], mat2[2]\n",
    "        res[k] = v\n",
    "res"
   ]
  },
  {
   "cell_type": "markdown",
   "metadata": {},
   "source": [
    "## 26. 強調マークアップの除去\n",
    "25の処理時に，テンプレートの値からMediaWikiの強調マークアップ（弱い強調，強調，強い強調のすべて）を除去してテキストに変換せよ（参考: [マークアップ早見表](https://ja.wikipedia.org/wiki/Help:%E6%97%A9%E8%A6%8B%E8%A1%A8)）．"
   ]
  },
  {
   "cell_type": "code",
   "execution_count": 151,
   "metadata": {},
   "outputs": [
    {
     "output_type": "execute_result",
     "data": {
      "text/plain": "{'略名': 'イギリス',\n '日本語国名': 'グレートブリテン及び北アイルランド連合王国',\n '公式国名': '{{lang|en|United Kingdom of Great Britain and Northern Ireland}}<ref>英語以外での正式国名:<br />\\n*{{lang|gd|An Rìoghachd Aonaichte na Breatainn Mhòr agus Eirinn mu Thuath}}（[[スコットランド・ゲール語]]）\\n*{{lang|cy|Teyrnas Gyfunol Prydain Fawr a Gogledd Iwerddon}}（[[ウェールズ語]]）\\n*{{lang|ga|Ríocht Aontaithe na Breataine Móire agus Tuaisceart na hÉireann}}（[[アイルランド語]]）\\n*{{lang|kw|An Rywvaneth Unys a Vreten Veur hag Iwerdhon Glédh}}（[[コーンウォール語]]）\\n*{{lang|sco|Unitit Kinrick o Great Breetain an Northren Ireland}}（[[スコットランド語]]）\\n**{{lang|sco|Claught Kängrick o Docht Brätain an Norlin Airlann}}、{{lang|sco|Unitet Kängdom o Great Brittain an Norlin Airlann}}（アルスター・スコットランド語）</ref>',\n '国旗画像': 'Flag of the United Kingdom.svg',\n '国章画像': '[[ファイル:Royal Coat of Arms of the United Kingdom.svg|85px|イギリスの国章]]',\n '国章リンク': '（[[イギリスの国章|国章]]）',\n '標語': '{{lang|fr|[[Dieu et mon droit]]}}<br />（[[フランス語]]:[[Dieu et mon droit|神と我が権利]]）',\n '国歌': '[[女王陛下万歳|{{lang|en|God Save the Queen}}]]{{en icon}}<br />神よ女王を護り賜え<br />{{center|[[ファイル:United States Navy Band - God Save the Queen.ogg]]}}',\n '地図画像': 'Europe-UK.svg',\n '位置画像': 'United Kingdom (+overseas territories) in the World (+Antarctica claims).svg',\n '公用語': '[[英語]]',\n '首都': '[[ロンドン]]（事実上）',\n '最大都市': 'ロンドン',\n '元首等肩書': '[[イギリスの君主|女王]]',\n '元首等氏名': '[[エリザベス2世]]',\n '首相等肩書': '[[イギリスの首相|首相]]',\n '首相等氏名': '[[ボリス・ジョンソン]]',\n '他元首等肩書1': '[[貴族院 (イギリス)|貴族院議長]]',\n '他元首等氏名1': '[[:en:Norman Fowler, Baron Fowler|ノーマン・ファウラー]]',\n '他元首等肩書2': '[[庶民院 (イギリス)|庶民院議長]]',\n '他元首等氏名2': '{{仮リンク|リンゼイ・ホイル|en|Lindsay Hoyle}}',\n '他元首等肩書3': '[[連合王国最高裁判所|最高裁判所長官]]',\n '他元首等氏名3': '[[:en:Brenda Hale, Baroness Hale of Richmond|ブレンダ・ヘイル]]',\n '面積順位': '76',\n '面積大きさ': '1 E11',\n '面積値': '244,820',\n '水面積率': '1.3%',\n '人口統計年': '2018',\n '人口順位': '22',\n '人口大きさ': '1 E7',\n '人口値': '6643万5600<ref>{{Cite web|url=https://www.ons.gov.uk/peoplepopulationandcommunity/populationandmigration/populationestimates|title=Population estimates - Office for National Statistics|accessdate=2019-06-26|date=2019-06-26}}</ref>',\n '人口密度値': '271',\n 'GDP統計年元': '2012',\n 'GDP値元': '1兆5478億<ref name=\"imf-statistics-gdp\">[http://www.imf.org/external/pubs/ft/weo/2012/02/weodata/weorept.aspx?pr.x=70&pr.y=13&sy=2010&ey=2012&scsm=1&ssd=1&sort=country&ds=.&br=1&c=112&s=NGDP%2CNGDPD%2CPPPGDP%2CPPPPC&grp=0&a=IMF>Data and Statistics>World Economic Outlook Databases>By Countrise>United Kingdom]</ref>',\n 'GDP統計年MER': '2012',\n 'GDP順位MER': '6',\n 'GDP値MER': '2兆4337億<ref name=\"imf-statistics-gdp\" />',\n 'GDP統計年': '2012',\n 'GDP順位': '6',\n 'GDP値': '2兆3162億<ref name=\"imf-statistics-gdp\" />',\n 'GDP/人': '36,727<ref name=\"imf-statistics-gdp\" />',\n '建国形態': '建国',\n '確立形態1': '[[イングランド王国]]／[[スコットランド王国]]<br />（両国とも[[合同法 (1707年)|1707年合同法]]まで）',\n '確立年月日1': '927年／843年',\n '確立形態2': '[[グレートブリテン王国]]成立<br />（1707年合同法）',\n '確立年月日2': '1707年{{0}}5月{{0}}1日',\n '確立形態3': '[[グレートブリテン及びアイルランド連合王国]]成立<br />（[[合同法 (1800年)|1800年合同法]]）',\n '確立年月日3': '1801年{{0}}1月{{0}}1日',\n '確立形態4': '現在の国号「グレートブリテン及び北アイルランド連合王国」に変更',\n '確立年月日4': '1927年{{0}}4月12日',\n '通貨': '[[スターリング・ポンド|UKポンド]] (£)',\n '通貨コード': 'GBP',\n '時間帯': '±0',\n '夏時間': '+1',\n 'ISO 3166-1': 'GB / GBR',\n 'ccTLD': '[[.uk]] / [[.gb]]<ref>使用は.ukに比べ圧倒的少数。</ref>',\n '国際電話番号': '44',\n '注記': '<references/>'}"
     },
     "metadata": {},
     "execution_count": 151
    }
   ],
   "source": [
    "import re\n",
    "\n",
    "def remove_markup(s):\n",
    "    s = re.sub(r'\\'{2,}', '', s)\n",
    "    return s\n",
    "\n",
    "res2 = {}\n",
    "for k in res:\n",
    "    res2[k] = remove_markup(res[k])\n",
    "res2"
   ]
  },
  {
   "cell_type": "markdown",
   "metadata": {},
   "source": [
    "## 27. 内部リンクの除去\n",
    "26の処理に加えて，テンプレートの値からMediaWikiの内部リンクマークアップを除去し，テキストに変換せよ（参考: [マークアップ早見表](https://ja.wikipedia.org/wiki/Help:%E6%97%A9%E8%A6%8B%E8%A1%A8)）．"
   ]
  },
  {
   "cell_type": "code",
   "execution_count": 156,
   "metadata": {},
   "outputs": [
    {
     "output_type": "execute_result",
     "data": {
      "text/plain": "{'略名': 'イギリス',\n '日本語国名': 'グレートブリテン及び北アイルランド連合王国',\n '公式国名': '{{lang|en|United Kingdom of Great Britain and Northern Ireland}}<ref>英語以外での正式国名:<br />\\n*{{lang|gd|An Rìoghachd Aonaichte na Breatainn Mhòr agus Eirinn mu Thuath}}（スコットランド・ゲール語）\\n*{{lang|cy|Teyrnas Gyfunol Prydain Fawr a Gogledd Iwerddon}}（ウェールズ語）\\n*{{lang|ga|Ríocht Aontaithe na Breataine Móire agus Tuaisceart na hÉireann}}（アイルランド語）\\n*{{lang|kw|An Rywvaneth Unys a Vreten Veur hag Iwerdhon Glédh}}（コーンウォール語）\\n*{{lang|sco|Unitit Kinrick o Great Breetain an Northren Ireland}}（スコットランド語）\\n**{{lang|sco|Claught Kängrick o Docht Brätain an Norlin Airlann}}、{{lang|sco|Unitet Kängdom o Great Brittain an Norlin Airlann}}（アルスター・スコットランド語）</ref>',\n '国旗画像': 'Flag of the United Kingdom.svg',\n '国章画像': 'イギリスの国章',\n '国章リンク': '（国章）',\n '標語': '{{lang|fr|Dieu et mon droit}}<br />（フランス語:神と我が権利）',\n '国歌': '[[女王陛下万歳|{{lang|en|God Save the Queen}}]]{{en icon}}<br />神よ女王を護り賜え<br />{{center|ファイル:United States Navy Band - God Save the Queen.ogg}}',\n '地図画像': 'Europe-UK.svg',\n '位置画像': 'United Kingdom (+overseas territories) in the World (+Antarctica claims).svg',\n '公用語': '英語',\n '首都': 'ロンドン（事実上）',\n '最大都市': 'ロンドン',\n '元首等肩書': '女王',\n '元首等氏名': 'エリザベス2世',\n '首相等肩書': '首相',\n '首相等氏名': 'ボリス・ジョンソン',\n '他元首等肩書1': '貴族院議長',\n '他元首等氏名1': 'ノーマン・ファウラー',\n '他元首等肩書2': '庶民院議長',\n '他元首等氏名2': '{{仮リンク|リンゼイ・ホイル|en|Lindsay Hoyle}}',\n '他元首等肩書3': '最高裁判所長官',\n '他元首等氏名3': 'ブレンダ・ヘイル',\n '面積順位': '76',\n '面積大きさ': '1 E11',\n '面積値': '244,820',\n '水面積率': '1.3%',\n '人口統計年': '2018',\n '人口順位': '22',\n '人口大きさ': '1 E7',\n '人口値': '6643万5600<ref>{{Cite web|url=https://www.ons.gov.uk/peoplepopulationandcommunity/populationandmigration/populationestimates|title=Population estimates - Office for National Statistics|accessdate=2019-06-26|date=2019-06-26}}</ref>',\n '人口密度値': '271',\n 'GDP統計年元': '2012',\n 'GDP値元': '1兆5478億<ref name=\"imf-statistics-gdp\">[http://www.imf.org/external/pubs/ft/weo/2012/02/weodata/weorept.aspx?pr.x=70&pr.y=13&sy=2010&ey=2012&scsm=1&ssd=1&sort=country&ds=.&br=1&c=112&s=NGDP%2CNGDPD%2CPPPGDP%2CPPPPC&grp=0&a=IMF>Data and Statistics>World Economic Outlook Databases>By Countrise>United Kingdom]</ref>',\n 'GDP統計年MER': '2012',\n 'GDP順位MER': '6',\n 'GDP値MER': '2兆4337億<ref name=\"imf-statistics-gdp\" />',\n 'GDP統計年': '2012',\n 'GDP順位': '6',\n 'GDP値': '2兆3162億<ref name=\"imf-statistics-gdp\" />',\n 'GDP/人': '36,727<ref name=\"imf-statistics-gdp\" />',\n '建国形態': '建国',\n '確立形態1': 'イングランド王国／スコットランド王国<br />（両国とも1707年合同法まで）',\n '確立年月日1': '927年／843年',\n '確立形態2': 'グレートブリテン王国成立<br />（1707年合同法）',\n '確立年月日2': '1707年{{0}}5月{{0}}1日',\n '確立形態3': 'グレートブリテン及びアイルランド連合王国成立<br />（1800年合同法）',\n '確立年月日3': '1801年{{0}}1月{{0}}1日',\n '確立形態4': '現在の国号「グレートブリテン及び北アイルランド連合王国」に変更',\n '確立年月日4': '1927年{{0}}4月12日',\n '通貨': 'UKポンド (£)',\n '通貨コード': 'GBP',\n '時間帯': '±0',\n '夏時間': '+1',\n 'ISO 3166-1': 'GB / GBR',\n 'ccTLD': '.uk / .gb<ref>使用は.ukに比べ圧倒的少数。</ref>',\n '国際電話番号': '44',\n '注記': '<references/>'}"
     },
     "metadata": {},
     "execution_count": 156
    }
   ],
   "source": [
    "import re\n",
    "\n",
    "def remove_link(s):\n",
    "    s = re.sub(r'\\[\\[(?:[^\\{\\}\\[\\]]*\\|)*([^\\|\\{\\}\\[\\]]*?)\\]\\]', r'\\1', s)\n",
    "    return s\n",
    "\n",
    "res2 = {}\n",
    "for k in res:\n",
    "    res2[k] = remove_link(remove_markup(res[k]))\n",
    "res2"
   ]
  },
  {
   "cell_type": "markdown",
   "metadata": {},
   "source": [
    "## 28. MediaWikiマークアップの除去\n",
    "27の処理に加えて，テンプレートの値からMediaWikiマークアップを可能な限り除去し，国の基本情報を整形せよ．"
   ]
  },
  {
   "cell_type": "code",
   "execution_count": 157,
   "metadata": {},
   "outputs": [
    {
     "output_type": "execute_result",
     "data": {
      "text/plain": "{'略名': 'イギリス',\n '日本語国名': 'グレートブリテン及び北アイルランド連合王国',\n '公式国名': 'United Kingdom of Great Britain and Northern Ireland<ref>英語以外での正式国名:<br />\\n*An Rìoghachd Aonaichte na Breatainn Mhòr agus Eirinn mu Thuath（スコットランド・ゲール語）\\n*Teyrnas Gyfunol Prydain Fawr a Gogledd Iwerddon（ウェールズ語）\\n*Ríocht Aontaithe na Breataine Móire agus Tuaisceart na hÉireann（アイルランド語）\\n*An Rywvaneth Unys a Vreten Veur hag Iwerdhon Glédh（コーンウォール語）\\n*Unitit Kinrick o Great Breetain an Northren Ireland（スコットランド語）\\n**Claught Kängrick o Docht Brätain an Norlin Airlann、Unitet Kängdom o Great Brittain an Norlin Airlann（アルスター・スコットランド語）</ref>',\n '国旗画像': 'Flag of the United Kingdom.svg',\n '国章画像': 'イギリスの国章',\n '国章リンク': '（国章）',\n '標語': 'Dieu et mon droit<br />（フランス語:神と我が権利）',\n '国歌': 'God Save the Queenen icon<br />神よ女王を護り賜え<br />ファイル:United States Navy Band - God Save the Queen.ogg',\n '地図画像': 'Europe-UK.svg',\n '位置画像': 'United Kingdom (+overseas territories) in the World (+Antarctica claims).svg',\n '公用語': '英語',\n '首都': 'ロンドン（事実上）',\n '最大都市': 'ロンドン',\n '元首等肩書': '女王',\n '元首等氏名': 'エリザベス2世',\n '首相等肩書': '首相',\n '首相等氏名': 'ボリス・ジョンソン',\n '他元首等肩書1': '貴族院議長',\n '他元首等氏名1': 'ノーマン・ファウラー',\n '他元首等肩書2': '庶民院議長',\n '他元首等氏名2': 'Lindsay Hoyle',\n '他元首等肩書3': '最高裁判所長官',\n '他元首等氏名3': 'ブレンダ・ヘイル',\n '面積順位': '76',\n '面積大きさ': '1 E11',\n '面積値': '244,820',\n '水面積率': '1.3%',\n '人口統計年': '2018',\n '人口順位': '22',\n '人口大きさ': '1 E7',\n '人口値': '6643万5600<ref>date=2019-06-26</ref>',\n '人口密度値': '271',\n 'GDP統計年元': '2012',\n 'GDP値元': '1兆5478億<ref name=\"imf-statistics-gdp\">[http://www.imf.org/external/pubs/ft/weo/2012/02/weodata/weorept.aspx?pr.x=70&pr.y=13&sy=2010&ey=2012&scsm=1&ssd=1&sort=country&ds=.&br=1&c=112&s=NGDP%2CNGDPD%2CPPPGDP%2CPPPPC&grp=0&a=IMF>Data and Statistics>World Economic Outlook Databases>By Countrise>United Kingdom]</ref>',\n 'GDP統計年MER': '2012',\n 'GDP順位MER': '6',\n 'GDP値MER': '2兆4337億<ref name=\"imf-statistics-gdp\" />',\n 'GDP統計年': '2012',\n 'GDP順位': '6',\n 'GDP値': '2兆3162億<ref name=\"imf-statistics-gdp\" />',\n 'GDP/人': '36,727<ref name=\"imf-statistics-gdp\" />',\n '建国形態': '建国',\n '確立形態1': 'イングランド王国／スコットランド王国<br />（両国とも1707年合同法まで）',\n '確立年月日1': '927年／843年',\n '確立形態2': 'グレートブリテン王国成立<br />（1707年合同法）',\n '確立年月日2': '1707年05月01日',\n '確立形態3': 'グレートブリテン及びアイルランド連合王国成立<br />（1800年合同法）',\n '確立年月日3': '1801年01月01日',\n '確立形態4': '現在の国号「グレートブリテン及び北アイルランド連合王国」に変更',\n '確立年月日4': '1927年04月12日',\n '通貨': 'UKポンド (£)',\n '通貨コード': 'GBP',\n '時間帯': '±0',\n '夏時間': '+1',\n 'ISO 3166-1': 'GB / GBR',\n 'ccTLD': '.uk / .gb<ref>使用は.ukに比べ圧倒的少数。</ref>',\n '国際電話番号': '44',\n '注記': '<references/>'}"
     },
     "metadata": {},
     "execution_count": 157
    }
   ],
   "source": [
    "import re\n",
    "\n",
    "def remove_all(s):\n",
    "    s = re.sub(r'\\'{2,}', '', s)\n",
    "    while True:\n",
    "        bef = s[:]\n",
    "        s = re.sub(r'\\{\\{(?:[^\\{\\}\\[\\]]*\\|)*([^\\|\\{\\}\\[\\]]*?)\\}\\}', r'\\1', s)\n",
    "        s = re.sub(r'\\[\\[(?:[^\\{\\}\\[\\]]*\\|)*([^\\|\\{\\}\\[\\]]*?)\\]\\]', r'\\1', s)\n",
    "        if bef == s:\n",
    "            return s\n",
    "\n",
    "res2 = {}\n",
    "for k in res:\n",
    "    res2[k] = remove_all(res[k])\n",
    "res2"
   ]
  },
  {
   "cell_type": "markdown",
   "metadata": {},
   "source": [
    "## 29. 国旗画像のURLを取得する\n",
    "テンプレートの内容を利用し，国旗画像のURLを取得せよ．（ヒント: MediaWiki APIのimageinfoを呼び出して，ファイル参照をURLに変換すればよい）"
   ]
  },
  {
   "cell_type": "code",
   "execution_count": 166,
   "metadata": {},
   "outputs": [
    {
     "output_type": "stream",
     "name": "stdout",
     "text": "https://upload.wikimedia.org/wikipedia/en/a/ae/Flag_of_the_United_Kingdom.svg\n"
    }
   ],
   "source": [
    "import requests\n",
    "\n",
    "S = requests.Session()\n",
    "\n",
    "URL = \"https://en.wikipedia.org/w/api.php\"\n",
    "\n",
    "PARAMS = {\n",
    "    \"action\": \"query\",\n",
    "    \"format\": \"json\",\n",
    "    \"prop\": \"imageinfo\",\n",
    "    \"iiprop\": \"url\",\n",
    "    \"titles\": \"File:\" + res2['国旗画像']\n",
    "}\n",
    "\n",
    "R = S.get(url=URL, params=PARAMS)\n",
    "DATA = R.json()\n",
    "\n",
    "PAGES = DATA[\"query\"][\"pages\"]\n",
    "\n",
    "for k, v in PAGES.items():\n",
    "    print(v[\"imageinfo\"][0][\"url\"])"
   ]
  },
  {
   "cell_type": "code",
   "execution_count": null,
   "metadata": {},
   "outputs": [],
   "source": []
  }
 ]
}