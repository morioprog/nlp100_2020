{
 "nbformat": 4,
 "nbformat_minor": 2,
 "metadata": {
  "language_info": {
   "name": "python",
   "codemirror_mode": {
    "name": "ipython",
    "version": 3
   },
   "version": "3.7.6-final"
  },
  "orig_nbformat": 2,
  "file_extension": ".py",
  "mimetype": "text/x-python",
  "name": "python",
  "npconvert_exporter": "python",
  "pygments_lexer": "ipython3",
  "version": 3,
  "kernelspec": {
   "name": "python37664bit6e8309ff7aa04202b32779452ce3c1a4",
   "display_name": "Python 3.7.6 64-bit"
  }
 },
 "cells": [
  {
   "cell_type": "markdown",
   "metadata": {},
   "source": [
    "# 第5章: 係り受け解析"
   ]
  },
  {
   "cell_type": "code",
   "execution_count": 17,
   "metadata": {},
   "outputs": [],
   "source": [
    "# 前処理 : https://qiita.com/nezuq/items/f481f07fc0576b38e81d\n",
    "!cabocha -f1 -f1 < ./in/neko.txt > ./out/neko.txt.cabocha"
   ]
  },
  {
   "cell_type": "markdown",
   "metadata": {},
   "source": [
    "## 40. 係り受け解析結果の読み込み（形態素）\n",
    "形態素を表すクラスMorphを実装せよ．このクラスは表層形（surface），基本形（base），品詞（pos），品詞細分類1（pos1）をメンバ変数に持つこととする．さらに，CaboChaの解析結果（neko.txt.cabocha）を読み込み，各文をMorphオブジェクトのリストとして表現し，3文目の形態素列を表示せよ．"
   ]
  },
  {
   "cell_type": "code",
   "execution_count": 46,
   "metadata": {},
   "outputs": [],
   "source": [
    "class Morph:\n",
    "    def __init__(self, surface, base, pos, pos1):\n",
    "        self.surface = surface\n",
    "        self.base = base\n",
    "        self.pos = pos\n",
    "        self.pos1 = pos1\n",
    "    def __str__(self):\n",
    "        return \"({0.surface}, {0.base}, {0.pos}, {0.pos1})\".format(self)\n",
    "    def __repr__(self):\n",
    "        return \"Morph('{0.surface}', '{0.base}', '{0.pos}', '{0.pos1}')\".format(self)\n",
    "\n",
    "    @classmethod\n",
    "    def init_cabocha(cls, sentence):\n",
    "        surface, other = sentence.split()\n",
    "        infos = other.split(',')\n",
    "        base, pos, pos1 = infos[6], infos[1], infos[2]\n",
    "        return cls(surface, base, pos, pos1)"
   ]
  },
  {
   "cell_type": "code",
   "execution_count": 58,
   "metadata": {
    "tags": [
     "outputPrepend"
    ]
   },
   "outputs": [],
   "source": [
    "with open('./out/neko.txt.cabocha', 'r') as f:\n",
    "    sentences = []\n",
    "    for sentence in f.read().split('EOS'):\n",
    "        morphs = [morph for morph in sentence.split('\\n') if morph != '']\n",
    "        if len(morphs) == 0:\n",
    "            continue\n",
    "        ls = []\n",
    "        for morph in morphs:\n",
    "            if len(morph) == 0 or morph[0] in '*\\u3000':\n",
    "                continue\n",
    "            ls.append(Morph.init_cabocha(morph))\n",
    "        sentences.append(ls)"
   ]
  },
  {
   "cell_type": "code",
   "execution_count": 59,
   "metadata": {
    "tags": [
     "outputPrepend"
    ]
   },
   "outputs": [
    {
     "output_type": "stream",
     "name": "stdout",
     "text": "(名前, 名前, 一般, *)\n(は, は, 係助詞, *)\n(まだ, まだ, 助詞類接続, *)\n(無い, 無い, 自立, *)\n(。, 。, 句点, *)\n"
    }
   ],
   "source": [
    "print(*sentences[2], sep='\\n')"
   ]
  },
  {
   "cell_type": "markdown",
   "metadata": {},
   "source": [
    "## 41. 係り受け解析結果の読み込み（文節・係り受け）\n",
    "40に加えて，文節を表すクラスChunkを実装せよ．このクラスは形態素（Morphオブジェクト）のリスト（morphs），係り先文節インデックス番号（dst），係り元文節インデックス番号のリスト（srcs）をメンバ変数に持つこととする．さらに，入力テキストのCaboChaの解析結果を読み込み，１文をChunkオブジェクトのリストとして表現し，8文目の文節の文字列と係り先を表示せよ．第5章の残りの問題では，ここで作ったプログラムを活用せよ．"
   ]
  },
  {
   "cell_type": "code",
   "execution_count": null,
   "metadata": {},
   "outputs": [],
   "source": [
    "class Chunk:\n",
    "    def __init__(self, morphs, dst, srcs):\n",
    "        "
   ]
  },
  {
   "cell_type": "code",
   "execution_count": null,
   "metadata": {},
   "outputs": [],
   "source": []
  }
 ]
}