{
 "nbformat": 4,
 "nbformat_minor": 2,
 "metadata": {
  "language_info": {
   "name": "python",
   "codemirror_mode": {
    "name": "ipython",
    "version": 3
   }
  },
  "orig_nbformat": 2,
  "file_extension": ".py",
  "mimetype": "text/x-python",
  "name": "python",
  "npconvert_exporter": "python",
  "pygments_lexer": "ipython3",
  "version": 3,
  "kernelspec": {
   "name": "python37664bit6e8309ff7aa04202b32779452ce3c1a4",
   "display_name": "Python 3.7.6 64-bit"
  }
 },
 "cells": [
  {
   "cell_type": "markdown",
   "metadata": {},
   "source": [
    "# 第2章: UNIXコマンド"
   ]
  },
  {
   "cell_type": "markdown",
   "metadata": {},
   "source": [
    "## 10. 行数のカウント\n",
    "行数をカウントせよ．確認にはwcコマンドを用いよ．"
   ]
  },
  {
   "cell_type": "code",
   "execution_count": 58,
   "metadata": {
    "tags": [
     "outputPrepend"
    ]
   },
   "outputs": [
    {
     "output_type": "stream",
     "name": "stdout",
     "text": "2780\n"
    }
   ],
   "source": [
    "with open('./in/popular-names.txt', 'r') as f:\n",
    "    s = f.read()\n",
    "    print(s.count('\\n'))"
   ]
  },
  {
   "cell_type": "code",
   "execution_count": 59,
   "metadata": {},
   "outputs": [
    {
     "output_type": "stream",
     "name": "stdout",
     "text": "2780 ./in/popular-names.txt\n"
    }
   ],
   "source": [
    "!wc -l ./in/popular-names.txt"
   ]
  },
  {
   "cell_type": "markdown",
   "metadata": {},
   "source": [
    "## 11. タブをスペースに置換\n",
    "タブ1文字につきスペース1文字に置換せよ．確認にはsedコマンド，trコマンド，もしくはexpandコマンドを用いよ．"
   ]
  },
  {
   "cell_type": "code",
   "execution_count": 61,
   "metadata": {
    "tags": [
     "outputPrepend"
    ]
   },
   "outputs": [],
   "source": [
    "with open('./in/popular-names.txt', 'r') as f, open('./out/11.txt', 'w') as out:\n",
    "    s = f.read()\n",
    "    out.write(s.replace('\\t', ' '))"
   ]
  },
  {
   "cell_type": "code",
   "execution_count": 62,
   "metadata": {
    "tags": [
     "outputPrepend"
    ]
   },
   "outputs": [],
   "source": [
    "!tr '\\t' ' ' < ./in/popular-names.txt | diff - ./out/11.txt"
   ]
  },
  {
   "cell_type": "markdown",
   "metadata": {},
   "source": [
    "## 12. 1列目をcol1.txtに，2列目をcol2.txtに保存\n",
    "各行の1列目だけを抜き出したものをcol1.txtに，2列目だけを抜き出したものをcol2.txtとしてファイルに保存せよ．確認にはcutコマンドを用いよ．"
   ]
  },
  {
   "cell_type": "code",
   "execution_count": 63,
   "metadata": {
    "tags": [
     "outputPrepend",
     "outputPrepend",
     "outputPrepend"
    ]
   },
   "outputs": [],
   "source": [
    "with open('./in/popular-names.txt', 'r') as f, open('./out/col1.txt', 'w') as col1, open('./out/col2.txt', 'w') as col2:\n",
    "    s = f.read()\n",
    "    for row in s.split('\\n'):\n",
    "        row_v = row.split()\n",
    "        if len(row_v) <= 2:\n",
    "            continue\n",
    "        col1.write(row_v[0] + '\\n')\n",
    "        col2.write(row_v[1] + '\\n')"
   ]
  },
  {
   "cell_type": "code",
   "execution_count": 64,
   "metadata": {},
   "outputs": [],
   "source": [
    "!awk '$0=$1' < ./in/popular-names.txt | diff - ./out/col1.txt\n",
    "!awk '$0=$2' < ./in/popular-names.txt | diff - ./out/col2.txt"
   ]
  },
  {
   "cell_type": "markdown",
   "metadata": {},
   "source": [
    "## 13. col1.txtとcol2.txtをマージ\n",
    "12で作ったcol1.txtとcol2.txtを結合し，元のファイルの1列目と2列目をタブ区切りで並べたテキストファイルを作成せよ．確認にはpasteコマンドを用いよ．"
   ]
  },
  {
   "cell_type": "code",
   "execution_count": 65,
   "metadata": {},
   "outputs": [],
   "source": [
    "with open('./out/col1.txt', 'r') as col1, open('./out/col2.txt', 'r') as col2, open('./out/col.txt', 'w') as col:\n",
    "    s1 = col1.read().strip()\n",
    "    s2 = col2.read().strip()\n",
    "    for r1, r2 in zip(s1.split('\\n'), s2.split('\\n')):\n",
    "        col.write(r1 + '\\t' + r2 + '\\n')"
   ]
  },
  {
   "cell_type": "code",
   "execution_count": 66,
   "metadata": {},
   "outputs": [],
   "source": [
    "!awk '$0=$1\"\\t\"$2' < ./in/popular-names.txt | diff - ./out/col.txt"
   ]
  },
  {
   "cell_type": "markdown",
   "metadata": {},
   "source": [
    "## 14. 先頭からN行を出力\n",
    "自然数Nをコマンドライン引数などの手段で受け取り，入力のうち先頭のN行だけを表示せよ．確認にはheadコマンドを用いよ．"
   ]
  },
  {
   "cell_type": "code",
   "execution_count": 67,
   "metadata": {},
   "outputs": [
    {
     "output_type": "stream",
     "name": "stdout",
     "text": "Mary\tF\t7065\t1880\nAnna\tF\t2604\t1880\nEmma\tF\t2003\t1880\nElizabeth\tF\t1939\t1880\nMinnie\tF\t1746\t1880\n"
    }
   ],
   "source": [
    "N = int(input())\n",
    "with open('./in/popular-names.txt', 'r') as f:\n",
    "    rows = f.read().strip().split('\\n')\n",
    "    print(*rows[:N], sep='\\n')"
   ]
  },
  {
   "cell_type": "code",
   "execution_count": 68,
   "metadata": {},
   "outputs": [
    {
     "output_type": "stream",
     "name": "stdout",
     "text": "Mary\tF\t7065\t1880\nAnna\tF\t2604\t1880\nEmma\tF\t2003\t1880\nElizabeth\tF\t1939\t1880\nMinnie\tF\t1746\t1880\n"
    }
   ],
   "source": [
    "!head -5 ./in/popular-names.txt"
   ]
  },
  {
   "cell_type": "markdown",
   "metadata": {},
   "source": [
    "## 15. 末尾のN行を出力\n",
    "自然数Nをコマンドライン引数などの手段で受け取り，入力のうち末尾のN行だけを表示せよ．確認にはtailコマンドを用いよ．"
   ]
  },
  {
   "cell_type": "code",
   "execution_count": 69,
   "metadata": {},
   "outputs": [
    {
     "output_type": "stream",
     "name": "stdout",
     "text": "Benjamin\tM\t13381\t2018\nElijah\tM\t12886\t2018\nLucas\tM\t12585\t2018\nMason\tM\t12435\t2018\nLogan\tM\t12352\t2018\n"
    }
   ],
   "source": [
    "N = int(input())\n",
    "with open('./in/popular-names.txt', 'r') as f:\n",
    "    rows = f.read().strip().split('\\n')\n",
    "    print(*rows[-N:], sep='\\n')"
   ]
  },
  {
   "cell_type": "code",
   "execution_count": 71,
   "metadata": {},
   "outputs": [
    {
     "output_type": "stream",
     "name": "stdout",
     "text": "Benjamin\tM\t13381\t2018\nElijah\tM\t12886\t2018\nLucas\tM\t12585\t2018\nMason\tM\t12435\t2018\nLogan\tM\t12352\t2018\n"
    }
   ],
   "source": [
    "!tail -5 ./in/popular-names.txt"
   ]
  },
  {
   "cell_type": "markdown",
   "metadata": {},
   "source": [
    "## 16. ファイルをN分割する\n",
    "自然数Nをコマンドライン引数などの手段で受け取り，入力のファイルを行単位でN分割せよ．同様の処理をsplitコマンドで実現せよ．"
   ]
  },
  {
   "cell_type": "code",
   "execution_count": 72,
   "metadata": {},
   "outputs": [
    {
     "output_type": "stream",
     "name": "stdout",
     "text": "['first line', 'second line', 'third line']\n['fourth line', 'fifth line', 'sixth line']\n['seventh line', 'eighth line']\n"
    }
   ],
   "source": [
    "N = int(input())\n",
    "with open('./in/test.txt', 'r') as f:\n",
    "    rows = f.read().strip().split('\\n')\n",
    "    frm = 0\n",
    "    while frm < len(rows):\n",
    "        print(rows[frm : frm + N])\n",
    "        frm += N"
   ]
  },
  {
   "cell_type": "code",
   "execution_count": 112,
   "metadata": {},
   "outputs": [
    {
     "output_type": "stream",
     "name": "stdout",
     "text": "seventh line\neighth line\n\nfourth line\nfifth line\nsixth line\n\n\nfirst line\nsecond line\nthird line\n\n\n"
    }
   ],
   "source": [
    "!split -l 3 -a 1 ./in/test.txt ./out/16_\n",
    "from os import listdir\n",
    "for f in filter(lambda f: f.startswith('16_'), listdir('./out')):\n",
    "    !cat ./out/$f\n",
    "    print('\\n')"
   ]
  },
  {
   "cell_type": "markdown",
   "metadata": {},
   "source": [
    "## 17. １列目の文字列の異なり\n",
    "1列目の文字列の種類（異なる文字列の集合）を求めよ．確認にはcut, sort, uniqコマンドを用いよ．"
   ]
  },
  {
   "cell_type": "code",
   "execution_count": 115,
   "metadata": {},
   "outputs": [],
   "source": [
    "with open('./in/popular-names.txt', 'r') as f, open('./out/17.txt', 'w') as out:\n",
    "    rows = f.read().strip().split('\\n')\n",
    "    for i in sorted(list(set(row.split()[0] for row in rows))):\n",
    "        out.write(i + '\\n')"
   ]
  },
  {
   "cell_type": "code",
   "execution_count": 116,
   "metadata": {},
   "outputs": [],
   "source": [
    "!awk '$0=$1' < ./in/popular-names.txt | sort | uniq | diff - ./out/17.txt"
   ]
  },
  {
   "cell_type": "markdown",
   "metadata": {},
   "source": [
    "## 18. 各行を3コラム目の数値の降順にソート\n",
    "各行を3コラム目の数値の逆順で整列せよ（注意: 各行の内容は変更せずに並び替えよ）．確認にはsortコマンドを用いよ（この問題はコマンドで実行した時の結果と合わなくてもよい）．"
   ]
  },
  {
   "cell_type": "code",
   "execution_count": 124,
   "metadata": {
    "tags": [
     "outputPrepend",
     "outputPrepend",
     "outputPrepend"
    ]
   },
   "outputs": [
    {
     "output_type": "stream",
     "name": "stdout",
     "text": "F', '38356', '1992']\n['Michael', 'M', '38364', '1996']\n['Steven', 'M', '38397', '1956']\n['Linda', 'F', '38412', '1944']\n['Charles', 'M', '38434', '1953']\n['Linda', 'F', '38439', '1943']\n['Ashley', 'F', '38453', '1992']\n['Karen', 'F', '38463', '1958']\n['Barbara', 'F', '38472', '1953']\n['David', 'M', '38486', '1984']\n['David', 'M', '38521', '1985']\n['Daniel', 'M', '38542', '1985']\n['William', 'M', '38564', '1915']\n['Dorothy', 'F', '38570', '1925']\n['Charles', 'M', '38676', '1948']\n['Robert', 'M', '38701', '1973']\n['Gary', 'M', '38756', '1952']\n['Ashley', 'F', '38772', '1984']\n['Thomas', 'M', '38867', '1946']\n['Charles', 'M', '38869', '1952']\n['James', 'M', '38875', '1982']\n['William', 'M', '38910', '1970']\n['Lisa', 'F', '38963', '1970']\n['Dorothy', 'F', '39044', '1923']\n['William', 'M', '39049', '1933']\n['Amanda', 'F', '39052', '1985']\n['Joshua', 'M', '39054', '1981']\n['Dorothy', 'F', '39087', '1921']\n['Charles', 'M', '39102', '1950']\n['Richard', 'M', '39106', '1941']\n['John', 'M', '39176', '1973']\n['David', 'M', '39177', '1975']\n['Barbara', 'F', '39197', '1944']\n['David', 'M', '39199', '1983']\n['Susan', 'F', '39203', '1960']\n['Patricia', 'F', '39270', '1957']\n['Thomas', 'M', '39273', '1960']\n['Barbara', 'F', '39279', '1938']\n['David', 'M', '39294', '1976']\n['James', 'M', '39325', '1980']\n['Cynthia', 'F', '39326', '1957']\n['James', 'M', '39371', '1979']\n['William', 'M', '39386', '1936']\n['Charles', 'M', '39397', '1951']\n['Richard', 'M', '39409', '1962']\n['Patricia', 'F', '39456', '1942']\n['Amanda', 'F', '39457', '1988']\n['Barbara', 'F', '39538', '1941']\n['James', 'M', '39591', '1975']\n['Patricia', 'F', '39625', '1943']\n['Barbara', 'F', '39865', '1952']\n['James', 'M', '39915', '1978']\n['Dorothy', 'F', '39999', '1924']\n['Joshua', 'M', '40000', '1987']\n['Charles', 'M', '40042', '1949']\n['Karen', 'F', '40047', '1956']\n['James', 'M', '40054', '1977']\n['Deborah', 'F', '40071', '1957']\n['Richard', 'M', '40097', '1964']\n['William', 'M', '40127', '1965']\n['William', 'M', '40170', '1934']\n['William', 'M', '40198', '1935']\n['Susan', 'F', '40228', '1951']\n['Joshua', 'M', '40262', '1984']\n['Thomas', 'M', '40276', '1959']\n['Linda', 'F', '40403', '1959']\n['William', 'M', '40419', '1916']\n['David', 'M', '40459', '1982']\n['Amanda', 'F', '40529', '1986']\n['David', 'M', '40543', '1977']\n['Karen', 'F', '40586', '1957']\n['Robert', 'M', '40620', '1918']\n['Barbara', 'F', '40620', '1951']\n['Jason', 'M', '40632', '1982']\n['David', 'M', '40668', '1981']\n['David', 'M', '40704', '1978']\n['William', 'M', '40713', '1937']\n['Charles', 'M', '40770', '1947']\n['Richard', 'M', '40786', '1963']\n['Mary', 'F', '40990', '1964']\n['Robert', 'M', '41027', '1919']\n['David', 'M', '41102', '1973']\n['Richard', 'M', '41117', '1961']\n['Michael', 'M', '41181', '1946']\n['Joshua', 'M', '41218', '1991']\n['Susan', 'F', '41350', '1952']\n['James', 'M', '41354', '1974']\n['Michael', 'M', '41402', '1995']\n['Linda', 'F', '41462', '1945']\n['Mary', 'F', '41550', '1963']\n['Barbara', 'F', '41552', '1950']\n['Susan', 'F', '41599', '1959']\n['Matthew', 'M', '41640', '1991']\n['Christopher', 'M', '41772', '1970']\n['Amanda', 'F', '41786', '1987']\n['David', 'M', '41815', '1974']\n['Linda', 'F', '41899', '1958']\n['David', 'M', '41925', '1980']\n['Jason', 'M', '41931', '1981']\n['Deborah', 'F', '42052', '1951']\n['Thomas', 'M', '42064', '1958']\n['William', 'M', '42077', '1939']\n['David', 'M', '42078', '1979']\n['William', 'M', '42117', '1932']\n['James', 'M', '42118', '1918']\n['Joshua', 'M', '42195', '1985']\n['Mark', 'M', '42222', '1955']\n['Shirley', 'F', '42358', '1935']\n['James', 'M', '42390', '1919']\n['William', 'M', '42422', '1917']\n['William', 'M', '42422', '1938']\n['Christopher', 'M', '42460', '1992']\n['Jessica', 'F', '42533', '1981']\n['Barbara', 'F', '42601', '1949']\n['Jennifer', 'F', '42651', '1985']\n['Joshua', 'M', '42651', '1988']\n['Lisa', 'F', '42702', '1961']\n['Debra', 'F', '42737', '1957']\n['James', 'M', '42889', '1973']\n['Robert', 'M', '43037', '1972']\n['John', 'M', '43181', '1972']\n['Joshua', 'M', '43219', '1990']\n['William', 'M', '43276', '1931']\n['Matthew', 'M', '43333', '1981']\n['Patricia', 'F', '43342', '1956']\n['Jessica', 'F', '43398', '1991']\n['Barbara', 'F', '43429', '1943']\n['Ashley', 'F', '43478', '1991']\n['Mary', 'F', '43486', '1962']\n['Richard', 'M', '43546', '1960']\n['Richard', 'M', '43585', '1942']\n['Thomas', 'M', '43778', '1948']\n['William', 'M', '43971', '1919']\n['Joshua', 'M', '44091', '1989']\n['William', 'M', '44240', '1964']\n['Susan', 'F', '44297', '1953']\n['Michael', 'M', '44469', '1994']\n['William', 'M', '44474', '1963']\n['Linda', 'F', '44500', '1957']\n['Thomas', 'M', '44572', '1957']\n['Barbara', 'F', '44734', '1942']\n['William', 'M', '44768', '1940']\n['Matthew', 'M', '44804', '1990']\n['Thomas', 'M', '44818', '1956']\n['Thomas', 'M', '44835', '1947']\n['William', 'M', '44860', '1962']\n['Lisa', 'F', '45029', '1969']\n['Barbara', 'F', '45122', '1946']\n['Susan', 'F', '45173', '1958']\n['Thomas', 'M', '45202', '1949']\n['Christopher', 'M', '45210', '1976']\n['Mark', 'M', '45269', '1964']\n['Jessica', 'F', '45282', '1983']\n['William', 'M', '45290', '1918']\n['Mary', 'F', '45345', '1914']\n['Matthew', 'M', '45374', '1989']\n['Jessica', 'F', '45451', '1982']\n['Ashley', 'F', '45560', '1990']\n['Thomas', 'M', '45599', '1950']\n['Richard', 'M', '45642', '1944']\n['Thomas', 'M', '45824', '1955']\n['Jessica', 'F', '45855', '1984']\n['Matthew', 'M', '45870', '1988']\n['Debra', 'F', '45890', '1954']\n['Susan', 'F', '45948', '1957']\n['Richard', 'M', '46043', '1945']\n['Matthew', 'M', '46066', '1982']\n['Lisa', 'F', '46078', '1962']\n['Patricia', 'F', '46136', '1948']\n['Jennifer', 'F', '46157', '1970']\n['Patricia', 'F', '46217', '1955']\n['John', 'M', '46222', '1933']\n['Patricia', 'F', '46296', '1946']\n['Richard', 'M', '46328', '1943']\n['Patricia', 'F', '46330', '1949']\n['David', 'M', '46366', '1972']\n['David', 'M', '46439', '1946']\n['Jessica', 'F', '46475', '1990']\n['Matthew', 'M', '46481', '1987']\n['Susan', 'F', '46571', '1956']\n['Christopher', 'M', '46592', '1975']\n['Jason', 'M', '46683', '1973']\n['John', 'M', '46734', '1934']\n['Christopher', 'M', '46749', '1977']\n['Barbara', 'F', '46826', '1948']\n['Matthew', 'M', '46925', '1986']\n['Thomas', 'M', '47005', '1953']\n['Ashley', 'F', '47007', '1985']\n['Matthew', 'M', '47079', '1985']\n['James', 'M', '47083', '1972']\n['Christopher', 'M', '47104', '1991']\n['Susan', 'F', '47151', '1954']\n['Thomas', 'M', '47158', '1954']\n['Richard', 'M', '47169', '1959']\n['Christopher', 'M', '47259', '1978']\n['William', 'M', '47265', '1930']\n['Susan', 'F', '47402', '1955']\n['John', 'M', '47499', '1935']\n['John', 'M', '47576', '1915']\n['Ashley', 'F', '47589', '1989']\n['John', 'M', '47669', '1936']\n['Mary', 'F', '47680', '1961']\n['William', 'M', '47789', '1941']\n['William', 'M', '47805', '1929']\n['Deborah', 'F', '47837', '1956']\n['Jessica', 'F', '47884', '1989']\n['James', 'M', '47912', '1920']\n['Patricia', 'F', '47945', '1950']\n['William', 'M', '47994', '1961']\n['Linda', 'F', '48075', '1956']\n['Jason', 'M', '48171', '1980']\n['Christopher', 'M', '48234', '1971']\n['Thomas', 'M', '48284', '1951']\n['Debra', 'F', '48302', '1956']\n['Christopher', 'M', '48321', '1973']\n['Jessica', 'F', '48347', '1985']\n['John', 'M', '48423', '1931']\n['Christopher', 'M', '48603', '1974']\n['John', 'M', '48617', '1932']\n['Thomas', 'M', '48652', '1952']\n['Robert', 'M', '48676', '1920']\n['John', 'M', '48746', '1937']\n['Barbara', 'F', '48792', '1947']\n['Mark', 'M', '48832', '1956']\n['Christopher', 'M', '49092', '1980']\n['William', 'M', '49117', '1928']\n['Patricia', 'F', '49146', '1954']\n['William', 'M', '49350', '1960']\n['Mark', 'M', '49350', '1963']\n['Lisa', 'F', '49532', '1968']\n['Michael', 'M', '49549', '1993']\n['Ashley', 'F', '49676', '1986']\n['James', 'M', '49748', '1921']\n['Matthew', 'M', '49776', '1984']\n['James', 'M', '49801', '1922']\n['Deborah', 'F', '49814', '1952']\n['Richard', 'M', '49942', '1958']\n['Ashley', 'F', '49963', '1988']\n['John', 'M', '50043', '1916']\n['William', 'M', '50149', '1920']\n['William', 'M', '50213', '1945']\n['Matthew', 'M', '50217', '1983']\n['Christopher', 'M', '50235', '1981']\n['Jason', 'M', '50408', '1979']\n['James', 'M', '50463', '1923']\n['Michael', 'M', '50501', '1947']\n['John', 'M', '50519', '1938']\n['Debra', 'F', '50556', '1955']\n['Jennifer', 'F', '50559', '1984']\n['Robert', 'M', '50654', '1971']\n['Christopher', 'M', '50677', '1979']\n['Richard', 'M', '50939', '1949']\n['Richard', 'M', '50970', '1948']\n['Richard', 'M', '51000', '1950']\n['John', 'M', '51015', '1939']\n['Patricia', 'F', '51018', '1953']\n['James', 'M', '51102', '1933']\n['William', 'M', '51116', '1922']\n['James', 'M', '51219', '1931']\n['Patricia', 'F', '51279', '1947']\n['Linda', 'F', '51288', '1955']\n['William', 'M', '51366', '1959']\n['Mary', 'F', '51475', '1960']\n['William', 'M', '51482', '1927']\n['John', 'M', '51518', '1971']\n['Jessica', 'F', '51543', '1988']\n['Jason', 'M', '51629', '1978']\n['John', 'M', '51853', '1917']\n['William', 'M', '51860', '1921']\n['William', 'M', '51920', '1926']\n['James', 'M', '51922', '1932']\n['John', 'M', '52113', '1929']\n['James', 'M', '52127', '1929']\n['William', 'M', '52136', '1923']\n['Jason', 'M', '52186', '1975']\n['Christopher', 'M', '52189', '1972']\n['Deborah', 'F', '52201', '1953']\n['Deborah', 'F', '52315', '1955']\n['Christopher', 'M', '52336', '1990']\n['William', 'M', '52369', '1944']\n['Richard', 'M', '52401', '1957']\n['John', 'M', '52434', '1930']\n['Lisa', 'F', '52435', '1967']\n['Michael', 'M', '52564', '1948']\n['Mark', 'M', '52665', '1958']\n['Jessica', 'F', '52677', '1986']\n['Jason', 'M', '52680', '1976']\n['James', 'M', '52682', '1925']\n['Linda', 'F', '52710', '1946']\n['James', 'M', '52754', '1928']\n['Robert', 'M', '52784', '1921']\n['Mark', 'M', '52794', '1957']\n['Richard', 'M', '52906', '1956']\n['James', 'M', '52939', '1924']\n['Christopher', 'M', '52997', '1988']\n['Patricia', 'F', '53098', '1952']\n['David', 'M', '53118', '1971']\n['Christopher', 'M', '53178', '1989']\n['James', 'M', '53209', '1926']\n['William', 'M', '53304', '1925']\n['Mark', 'M', '53504', '1962']\n['William', 'M', '53511', '1924']\n['John', 'M', '53528', '1919']\n['Richard', 'M', '53545', '1955']\n['James', 'M', '53674', '1927']\n['John', 'M', '53755', '1928']\n['Robert', 'M', '53793', '1922']\n['James', 'M', '53941', '1930']\n['William', 'M', '54195', '1958']\n['Robert', 'M', '54218', '1933']\n['James', 'M', '54249', '1934']\n['Lisa', 'F', '54275', '1964']\n['Jennifer', 'F', '54346', '1983']\n['Mary', 'F', '54372', '1936']\n['Michael', 'M', '54392', '1992']\n['Mary', 'F', '54474', '1959']\n['Christopher', 'M', '54493', '1987']\n['Richard', 'M', '54549', '1951']\n['James', 'M', '54621', '1971']\n['Deborah', 'F', '54677', '1954']\n['James', 'M', '54686', '1936']\n['Jason', 'M', '54776', '1974']\n['John', 'M', '54779', '1940']\n['Ashley', 'F', '54854', '1987']\n['William', 'M', '54884', '1942']\n['Mary', 'F', '54901', '1939']\n['James', 'M', '55000', '1935']\n['Mary', 'F', '55069', '1935']\n['Linda', 'F', '55381', '1954']\n['Mary', 'F', '55509', '1933']\n['Mary', 'F', '55645', '1937']\n['Jason', 'M', '55653', '1977']\n['Robert', 'M', '55829', '1934']\n['Mary', 'F', '55857', '1958']\n['William', 'M', '55898', '1943']\n['John', 'M', '55954', '1927']\n['Jessica', 'F', '55994', '1987']\n['Lisa', 'F', '56040', '1963']\n['John', 'M', '56110', '1926']\n['Robert', 'M', '56117', '1923']\n['Mary', 'F', '56203', '1940']\n['Mary', 'F', '56215', '1938']\n['Jennifer', 'F', '56321', '1978']\n['Robert', 'M', '56381', '1967']\n['Patricia', 'F', '56442', '1951']\n['Robert', 'M', '56524', '1935']\n['James', 'M', '56551', '1937']\n['John', 'M', '56558', '1918']\n['David', 'M', '56623', '1948']\n['Christopher', 'M', '56691', '1986']\n['Jennifer', 'F', '56717', '1979']\n['Jennifer', 'F', '56783', '1971']\n['William', 'M', '56829', '1957']\n['Mark', 'M', '56909', '1959']\n['John', 'M', '56913', '1920']\n['Lisa', 'F', '56914', '1966']\n['Mary', 'F', '56929', '1934']\n['Richard', 'M', '57014', '1954']\n['Jennifer', 'F', '57049', '1981']\n['Jennifer', 'F', '57117', '1982']\n['John', 'M', '57199', '1925']\n['Robert', 'M', '57203', '1970']\n['John', 'M', '57277', '1922']\n['John', 'M', '57470', '1923']\n['John', 'M', '57515', '1941']\n['Mark', 'M', '57767', '1961']\n['David', 'M', '57806', '1947']\n['Mary', 'F', '58040', '1941']\n['Jennifer', 'F', '58183', '1975']\n['Mary', 'F', '58187', '1915']\n['Robert', 'M', '58211', '1968']\n['John', 'M', '58217', '1921']\n['Robert', 'M', '58325', '1969']\n['Richard', 'M', '58350', '1952']\n['Jennifer', 'F', '58375', '1980']\n['Richard', 'M', '58403', '1953']\n['Robert', 'M', '58492', '1936']\n['Richard', 'M', '58521', '1947']\n['John', 'M', '58525', '1970']\n['Mark', 'M', '58728', '1960']\n['John', 'M', '58771', '1969']\n['Richard', 'M', '58868', '1946']\n['William', 'M', '58957', '1956']\n['Jennifer', 'F', '58964', '1977']\n['John', 'M', '59055', '1924']\n['James', 'M', '59099', '1938']\n['Christopher', 'M', '59231', '1982']\n['Robert', 'M', '59266', '1932']\n['Mary', 'F', '59283', '1945']\n['Robert', 'M', '59330', '1966']\n['Christopher', 'M', '59349', '1983']\n['Jennifer', 'F', '59474', '1976']\n['David', 'M', '59601', '1949']\n['Christopher', 'M', '59609', '1985']\n['James', 'M', '59627', '1939']\n['Robert', 'M', '59645', '1939']\n['Robert', 'M', '59798', '1929']\n['Mary', 'F', '59874', '1932']\n['James', 'M', '59915', '1969']\n['William', 'M', '59958', '1955']\n['Christopher', 'M', '60029', '1984']\n['William', 'M', '60038', '1946']\n['Michael', 'M', '60046', '1949']\n['Lisa', 'F', '60269', '1965']\n['Mary', 'F', '60296', '1931']\n['Robert', 'M', '60508', '1931']\n['William', 'M', '60689', '1950']\n['James', 'M', '60693', '1968']\n['Robert', 'M', '60699', '1928']\n['David', 'M', '60727', '1950']\n['Michael', 'M', '60785', '1991']\n['Robert', 'M', '60801', '1924']\n['Robert', 'M', '60897', '1925']\n['John', 'M', '60929', '1968']\n['Mary', 'F', '61094', '1957']\n['Robert', 'M', '61130', '1926']\n['Robert', 'M', '61196', '1940']\n['Linda', 'F', '61280', '1953']\n['William', 'M', '61417', '1954']\n['Mary', 'F', '61438', '1916']\n['William', 'M', '61501', '1949']\n['John', 'M', '61618', '1967']\n['Robert', 'M', '61669', '1927']\n['James', 'M', '61698', '1967']\n['David', 'M', '61752', '1970']\n['Mary', 'F', '61756', '1956']\n['James', 'M', '61759', '1970']\n['Robert', 'M', '61835', '1937']\n['William', 'M', '61840', '1953']\n['William', 'M', '61965', '1948']\n['Robert', 'M', '62149', '1930']\n['Robert', 'M', '62268', '1938']\n['Jennifer', 'F', '62447', '1973']\n['Mary', 'F', '62467', '1944']\n['James', 'M', '62473', '1940']\n['William', 'M', '62782', '1951']\n['William', 'M', '63047', '1952']\n['Jennifer', 'F', '63114', '1974']\n['Robert', 'M', '63123', '1965']\n['Mary', 'F', '63165', '1955']\n['Mary', 'F', '63254', '1942']\n['Mary', 'F', '63508', '1929']\n['Jennifer', 'F', '63603', '1972']\n['Michael', 'M', '63655', '1987']\n['David', 'M', '63700', '1969']\n['David', 'M', '63718', '1968']\n['Michael', 'M', '64143', '1988']\n['Mary', 'F', '64146', '1930']\n['Michael', 'M', '64208', '1986']\n['Robert', 'M', '64233', '1941']\n['Mary', 'F', '64281', '1917']\n['Mary', 'F', '64379', '1953']\n['David', 'M', '64792', '1951']\n['Michael', 'M', '64912', '1985']\n['John', 'M', '65032', '1966']\n['Michael', 'M', '65144', '1950']\n['James', 'M', '65174', '1966']\n['Michael', 'M', '65290', '1990']\n['Michael', 'M', '65389', '1989']\n['Mary', 'F', '65481', '1950']\n['Mary', 'F', '65634', '1952']\n['Mary', 'F', '65721', '1951']\n['Mary', 'F', '65838', '1919']\n['John', 'M', '66027', '1942']\n['John', 'M', '66113', '1945']\n['Mary', 'F', '66169', '1943']\n['David', 'M', '66420', '1966']\n['John', 'M', '66610', '1944']\n['James', 'M', '66736', '1941']\n['David', 'M', '66810', '1967']\n['Mary', 'F', '66864', '1949']\n['Mary', 'F', '66872', '1928']\n['Michael', 'M', '66954', '1976']\n['William', 'M', '66989', '1947']\n['Linda', 'F', '67082', '1952']\n['Michael', 'M', '67158', '1978']\n['Mary', 'F', '67366', '1918']\n['Mary', 'F', '67467', '1946']\n['Michael', 'M', '67578', '1974']\n['Michael', 'M', '67616', '1977']\n['James', 'M', '67701', '1965']\n['Michael', 'M', '67739', '1979']\n['Michael', 'M', '67741', '1984']\n['Mary', 'F', '67832', '1926']\n['Michael', 'M', '67847', '1973']\n['David', 'M', '67852', '1965']\n['Michael', 'M', '68000', '1983']\n['Mary', 'F', '68007', '1954']\n['Michael', 'M', '68235', '1982']\n['Michael', 'M', '68454', '1975']\n['Mary', 'F', '68597', '1948']\n['Michael', 'M', '68696', '1980']\n['Michael', 'M', '68763', '1981']\n['John', 'M', '68919', '1943']\n['Robert', 'M', '69937', '1945']\n['Robert', 'M', '70003', '1964']\n['Robert', 'M', '70012', '1963']\n['Robert', 'M', '70196', '1962']\n['Mary', 'F', '70591', '1925']\n['Mary', 'F', '70639', '1927']\n['Robert', 'M', '70843', '1944']\n['Mary', 'F', '70982', '1920']\n['James', 'M', '71322', '1963']\n['Michael', 'M', '71405', '1972']\n['John', 'M', '71541', '1965']\n['Mary', 'F', '71638', '1923']\n['Mary', 'F', '71687', '1947']\n['David', 'M', '71750', '1952']\n['Robert', 'M', '71838', '1942']\n['Mary', 'F', '72173', '1922']\n['Robert', 'M', '72360', '1960']\n['James', 'M', '72555', '1962']\n['Michael', 'M', '72797', '1951']\n['Robert', 'M', '72901', '1961']\n['James', 'M', '73037', '1964']\n['Mary', 'F', '73534', '1924']\n['Linda', 'F', '73978', '1951']\n['Mary', 'F', '73985', '1921']\n['James', 'M', '74449', '1945']\n['Robert', 'M', '74502', '1959']\n['Robert', 'M', '74865', '1943']\n['David', 'M', '75054', '1964']\n['James', 'M', '75924', '1961']\n['John', 'M', '75991', '1958']\n['John', 'M', '76093', '1960']\n['David', 'M', '76152', '1953']\n['John', 'M', '76407', '1959']\n['James', 'M', '76832', '1960']\n['James', 'M', '76951', '1944']\n['James', 'M', '77176', '1942']\n['Robert', 'M', '77272', '1958']\n['Michael', 'M', '77594', '1971']\n['John', 'M', '78429', '1962']\n['David', 'M', '78467', '1963']\n['James', 'M', '78606', '1959']\n['John', 'M', '78625', '1963']\n['James', 'M', '78713', '1958']\n['John', 'M', '78984', '1957']\n['Michael', 'M', '79049', '1952']\n['John', 'M', '79261', '1946']\n['John', 'M', '79424', '1950']\n['David', 'M', '79529', '1954']\n['John', 'M', '79929', '1961']\n['Michael', 'M', '79990', '1966']\n['John', 'M', '80054', '1955']\n['John', 'M', '80190', '1953']\n['James', 'M', '80261', '1943']\n['Linda', 'F', '80431', '1950']\n['John', 'M', '80790', '1956']\n['Michael', 'M', '81021', '1965']\n['John', 'M', '81161', '1949']\n['John', 'M', '81165', '1954']\n['David', 'M', '81324', '1962']\n['John', 'M', '81574', '1951']\n['David', 'M', '81624', '1956']\n['Robert', 'M', '81717', '1957']\n['Michael', 'M', '82008', '1968']\n['David', 'M', '82349', '1957']\n['Michael', 'M', '82436', '1967']\n['John', 'M', '82533', '1964']\n['David', 'M', '82578', '1958']\n['Michael', 'M', '82646', '1964']\n['John', 'M', '82829', '1948']\n['John', 'M', '83138', '1952']\n['Robert', 'M', '83559', '1950']\n['Robert', 'M', '83703', '1955']\n['Michael', 'M', '83782', '1963']\n['Robert', 'M', '83872', '1949']\n['Robert', 'M', '83917', '1956']\n['David', 'M', '83931', '1959']\n['Robert', 'M', '84138', '1946']\n['James', 'M', '84155', '1955']\n['Michael', 'M', '84180', '1960']\n['Michael', 'M', '84226', '1953']\n['James', 'M', '84275', '1957']\n['David', 'M', '84758', '1961']\n['James', 'M', '84863', '1956']\n['Michael', 'M', '85034', '1962']\n['Michael', 'M', '85203', '1969']\n['Michael', 'M', '85251', '1959']\n['Michael', 'M', '85302', '1970']\n['Robert', 'M', '85475', '1948']\n['David', 'M', '85929', '1960']\n['James', 'M', '86099', '1953']\n['James', 'M', '86224', '1950']\n['David', 'M', '86253', '1955']\n['Robert', 'M', '86256', '1953']\n['James', 'M', '86272', '1954']\n['Robert', 'M', '86298', '1954']\n['Robert', 'M', '86351', '1951']\n['Robert', 'M', '86604', '1952']\n['James', 'M', '86857', '1949']\n['Michael', 'M', '86917', '1961']\n['James', 'M', '87063', '1952']\n['James', 'M', '87261', '1951']\n['James', 'M', '87436', '1946']\n['John', 'M', '88319', '1947']\n['Michael', 'M', '88327', '1955']\n['Michael', 'M', '88528', '1954']\n['James', 'M', '88584', '1948']\n['Michael', 'M', '90517', '1958']\n['Michael', 'M', '90656', '1956']\n['Linda', 'F', '91016', '1949']\n['Robert', 'M', '91640', '1947']\n['Michael', 'M', '92704', '1957']\n['James', 'M', '94757', '1947']\n['Linda', 'F', '96211', '1948']\n['Linda', 'F', '99689', '1947']\n"
    }
   ],
   "source": [
    "with open('./in/popular-names.txt', 'r') as f:\n",
    "    rows = [i.split() for i in f.read().strip().split('\\n')]\n",
    "    print(*sorted(rows, key=lambda r: int(r[2])), sep='\\n')"
   ]
  },
  {
   "cell_type": "code",
   "execution_count": 125,
   "metadata": {
    "tags": [
     "outputPrepend"
    ]
   },
   "outputs": [
    {
     "output_type": "stream",
     "name": "stdout",
     "text": "andra\tF\t28896\t1950\nKaren\tF\t28959\t1952\nCharles\tM\t28962\t1923\nCarol\tF\t28979\t1948\nCharles\tM\t28988\t1933\nThomas\tM\t29014\t1966\nDonald\tM\t29048\t1930\nDeborah\tF\t29063\t1950\nCharles\tM\t29084\t1936\nBrittany\tF\t29089\t1991\nDonald\tM\t29102\t1931\nChristopher\tM\t29105\t1997\nDaniel\tM\t29148\t1992\nTyler\tM\t29154\t1995\nNicholas\tM\t29156\t1995\nJoshua\tM\t29170\t1996\nHelen\tF\t29172\t1925\nBarbara\tF\t29234\t1934\nRonald\tM\t29235\t1943\nCharles\tM\t29244\t1921\nNancy\tF\t29246\t1949\nMichelle\tF\t29284\t1972\nJohn\tM\t29329\t1913\nNancy\tF\t29411\t1948\nJacob\tM\t29412\t1994\nChristopher\tM\t29426\t1967\nBrian\tM\t29451\t1978\nBrandon\tM\t29487\t1994\nCharles\tM\t29521\t1926\nDeborah\tF\t29552\t1959\nAmy\tF\t29565\t1974\nRichard\tM\t29569\t1929\nCharles\tM\t29582\t1925\nJeffrey\tM\t29587\t1965\nNancy\tF\t29616\t1950\nBrandon\tM\t29622\t1992\nJacob\tM\t29638\t2003\nDonald\tM\t29661\t1935\nMichael\tM\t29683\t2001\nBarbara\tF\t29687\t1957\nPatricia\tF\t29706\t1939\nWilliam\tM\t29753\t1914\nDonald\tM\t29786\t1932\nCharles\tM\t29792\t1934\nTyler\tM\t29796\t1993\nJoseph\tM\t29834\t1991\nKaren\tF\t29853\t1953\nDonna\tF\t29856\t1956\nMichael\tM\t29899\t1945\nCharles\tM\t29924\t1931\nCharles\tM\t29931\t1929\nBrian\tM\t29939\t1968\nMatthew\tM\t29981\t1976\nCharles\tM\t29983\t1935\nNancy\tF\t30017\t1955\nRobert\tM\t30065\t1989\nJoseph\tM\t30128\t1990\nCynthia\tF\t30167\t1959\nJeffrey\tM\t30202\t1966\nJoseph\tM\t30203\t1980\nJohn\tM\t30207\t1986\nJoseph\tM\t30212\t1985\nRobert\tM\t30229\t1987\nKaren\tF\t30247\t1964\nNancy\tF\t30264\t1954\nCarol\tF\t30273\t1942\nAshley\tF\t30278\t1994\nRobert\tM\t30317\t1988\nNancy\tF\t30347\t1951\nCarol\tF\t30387\t1945\nDonald\tM\t30409\t1934\nDorothy\tF\t30409\t1930\nDavid\tM\t30414\t1991\nMatthew\tM\t30415\t1999\nCarol\tF\t30456\t1944\nRichard\tM\t30456\t1970\nCharles\tM\t30461\t1924\nTyler\tM\t30477\t1994\nJames\tM\t30507\t1991\nJoseph\tM\t30515\t1984\nCharles\tM\t30524\t1937\nWilliam\tM\t30529\t1972\nBrian\tM\t30532\t1976\nAndrew\tM\t30535\t1992\nDavid\tM\t30551\t1941\nJacob\tM\t30574\t2002\nBetty\tF\t30599\t1924\nBrian\tM\t30608\t1975\nNancy\tF\t30618\t1953\nJustin\tM\t30641\t1990\nSandra\tF\t30642\t1949\nBarbara\tF\t30696\t1935\nKimberly\tF\t30696\t1971\nJoshua\tM\t30718\t1995\nJeffrey\tM\t30732\t1964\nCharles\tM\t30787\t1939\nMichelle\tF\t30826\t1967\nHelen\tF\t30866\t1915\nChristopher\tM\t30901\t1996\nDaniel\tM\t30917\t1991\nScott\tM\t30921\t1971\nDaniel\tM\t30994\t1981\nCynthia\tF\t31003\t1958\nSandra\tF\t31060\t1948\nBetty\tF\t31085\t1934\nCharles\tM\t31095\t1932\nThomas\tM\t31098\t1942\nRichard\tM\t31106\t1969\nJacob\tM\t31129\t1995\nJoshua\tM\t31137\t1979\nCharles\tM\t31138\t1938\nMatthew\tM\t31142\t1998\nHelen\tF\t31192\t1924\nCharles\tM\t31247\t1928\nRichard\tM\t31337\t1933\nAmy\tF\t31341\t1976\nRobert\tM\t31349\t1986\nJoshua\tM\t31372\t1994\nDebra\tF\t31373\t1959\nChristopher\tM\t31459\t1968\nLinda\tF\t31468\t1962\nDorothy\tF\t31477\t1929\nHelen\tF\t31488\t1923\nJustin\tM\t31492\t1987\nMark\tM\t31492\t1970\nJohn\tM\t31500\t1985\nMatthew\tM\t31514\t1997\nSusan\tF\t31515\t1964\nBetty\tF\t31526\t1933\nAndrew\tM\t31532\t1991\nThomas\tM\t31598\t1944\nLinda\tF\t31611\t1942\nThomas\tM\t31623\t1965\nMelissa\tF\t31636\t1980\nBarbara\tF\t31682\t1936\nCarol\tF\t31682\t1943\nCharles\tM\t31684\t1940\nBrian\tM\t31687\t1969\nSandra\tF\t31692\t1946\nJeffrey\tM\t31719\t1963\nDorothy\tF\t31734\t1919\nNancy\tF\t31740\t1952\nRobert\tM\t31741\t1916\nRobert\tM\t31773\t1984\nRichard\tM\t31798\t1932\nLarry\tM\t31809\t1949\nRichard\tM\t31816\t1931\nRonald\tM\t31855\t1946\nThomas\tM\t31869\t1945\nCharles\tM\t31871\t1930\nKimberly\tF\t31908\t1968\nJacob\tM\t31925\t1996\nAmanda\tF\t31928\t1979\nBrian\tM\t31930\t1970\nCharles\tM\t31936\t1927\nSusan\tF\t31954\t1947\nMatthew\tM\t31973\t1977\nDorothy\tF\t32032\t1918\nMichael\tM\t32037\t2000\nMatthew\tM\t32073\t1996\nRobert\tM\t32090\t1985\nPatricia\tF\t32104\t1960\nJessica\tF\t32117\t1994\nRichard\tM\t32183\t1930\nKimberly\tF\t32234\t1966\nSteven\tM\t32240\t1961\nAmy\tF\t32251\t1975\nBarbara\tF\t32298\t1956\nMary\tF\t32304\t1912\nCynthia\tF\t32344\t1956\nJames\tM\t32349\t1990\nNancy\tF\t32444\t1947\nKaren\tF\t32454\t1954\nCharles\tM\t32462\t1945\nKaren\tF\t32485\t1963\nBrian\tM\t32502\t1977\nHelen\tF\t32508\t1922\nJames\tM\t32510\t1988\nJacob\tM\t32545\t2001\nJohn\tM\t32617\t1984\nBrian\tM\t32637\t1971\nJames\tM\t32643\t1987\nDaniel\tM\t32653\t1982\nHelen\tF\t32662\t1916\nPatricia\tF\t32664\t1940\nChristopher\tM\t32674\t1995\nJames\tM\t32703\t1989\nJennifer\tF\t32703\t1987\nCharles\tM\t32732\t1941\nRobert\tM\t32746\t1983\nBetty\tF\t32813\t1925\nJustin\tM\t32843\t1989\nThomas\tM\t32865\t1943\nKaren\tF\t32872\t1965\nMatthew\tM\t32875\t1995\nLisa\tF\t32909\t1971\nDeborah\tF\t32937\t1958\nSteven\tM\t32946\t1958\nBetty\tF\t32964\t1926\nRichard\tM\t32973\t1937\nRichard\tM\t32987\t1968\nKimberly\tF\t33077\t1969\nKimberly\tF\t33102\t1967\nJohn\tM\t33153\t1983\nRichard\tM\t33157\t1934\nMichelle\tF\t33160\t1971\nKaren\tF\t33218\t1955\nMichelle\tF\t33221\t1968\nAshley\tF\t33293\t1983\nMark\tM\t33394\t1969\nRobert\tM\t33396\t1978\nRichard\tM\t33487\t1936\nRonald\tM\t33518\t1948\nJeffrey\tM\t33521\t1962\nCarol\tF\t33539\t1947\nSteven\tM\t33572\t1959\nJoshua\tM\t33581\t1993\nRichard\tM\t33588\t1967\nBarbara\tF\t33605\t1955\nMatthew\tM\t33648\t1994\nAndrew\tM\t33657\t1990\nJennifer\tF\t33702\t1969\nLisa\tF\t33702\t1960\nHelen\tF\t33706\t1919\nDorothy\tF\t33731\t1928\nDavid\tM\t33743\t1990\nGary\tM\t33749\t1950\nAmanda\tF\t33754\t1983\nJames\tM\t33775\t1915\nRobert\tM\t33810\t1976\nDaniel\tM\t33818\t1990\nAndrew\tM\t33856\t1986\nSteven\tM\t33889\t1960\nAmanda\tF\t33908\t1984\nMichael\tM\t33912\t1999\nJessica\tF\t33921\t1980\nRichard\tM\t33945\t1935\nSusan\tF\t33998\t1963\nJohn\tM\t34006\t1976\nRobert\tM\t34026\t1979\nJohn\tM\t34037\t1978\nJames\tM\t34040\t1986\nMichelle\tF\t34050\t1970\nMelissa\tF\t34052\t1979\nDonna\tF\t34132\t1960\nKimberly\tF\t34136\t1970\nJacob\tM\t34153\t1997\nJason\tM\t34187\t1971\nAmanda\tF\t34214\t1982\nRobert\tM\t34217\t1977\nJohn\tM\t34227\t1977\nHelen\tF\t34251\t1917\nMary\tF\t34270\t1965\nRobert\tM\t34280\t1980\nCarol\tF\t34284\t1946\nMatthew\tM\t34310\t1978\nMichelle\tF\t34322\t1969\nAmanda\tF\t34373\t1981\nRichard\tM\t34380\t1938\nRobert\tM\t34406\t1981\nAmanda\tF\t34408\t1990\nBetty\tF\t34417\t1932\nRobert\tM\t34425\t1982\nThomas\tM\t34451\t1964\nBrian\tM\t34460\t1974\nRichard\tM\t34469\t1966\nJacob\tM\t34477\t2000\nCharles\tM\t34654\t1944\nKaren\tF\t34697\t1961\nDaniel\tM\t34700\t1988\nJohn\tM\t34705\t1982\nDaniel\tM\t34750\t1983\nSandra\tF\t34775\t1947\nChristopher\tM\t34800\t1994\nMark\tM\t34806\t1966\nAndrew\tM\t34811\t1989\nHelen\tF\t34822\t1921\nAshley\tF\t34850\t1993\nJohn\tM\t34887\t1981\nBarbara\tF\t34912\t1937\nMark\tM\t34925\t1967\nLarry\tM\t34938\t1947\nJessica\tF\t34987\t1993\nDaniel\tM\t35001\t1989\nJustin\tM\t35042\t1988\nHelen\tF\t35097\t1920\nJohn\tM\t35097\t1975\nJason\tM\t35115\t1983\nShirley\tF\t35161\t1936\nKaren\tF\t35184\t1962\nDavid\tM\t35218\t1989\nPatricia\tF\t35220\t1959\nRobert\tM\t35220\t1917\nJohn\tM\t35279\t1980\nDavid\tM\t35314\t1988\nRobert\tM\t35335\t1975\nJacob\tM\t35363\t1999\nRichard\tM\t35373\t1939\nMark\tM\t35420\t1968\nBetty\tF\t35422\t1927\nWilliam\tM\t35432\t1971\nJohn\tM\t35434\t1979\nThomas\tM\t35503\t1963\nDebra\tF\t35517\t1958\nJames\tM\t35569\t1916\nLinda\tF\t35579\t1961\nMatthew\tM\t35657\t1979\nChristopher\tM\t35698\t1969\nBrian\tM\t35715\t1973\nAndrew\tM\t35741\t1988\nSusan\tF\t35743\t1962\nMatthew\tM\t35770\t1993\nAmanda\tF\t35821\t1980\nPatricia\tF\t35839\t1945\nCharles\tM\t35843\t1942\nJames\tM\t35857\t1984\nJames\tM\t35861\t1985\nDaniel\tM\t35865\t1987\nDavid\tM\t35894\t1942\nSusan\tF\t35985\t1948\nDorothy\tF\t35987\t1927\nJacob\tM\t36016\t1998\nJoshua\tM\t36060\t1980\nBetty\tF\t36080\t1928\nBetty\tF\t36105\t1931\nHelen\tF\t36148\t1918\nJennifer\tF\t36185\t1986\nAndrew\tM\t36206\t1987\nJoshua\tM\t36215\t1992\nBrian\tM\t36322\t1972\nJames\tM\t36354\t1983\nBarbara\tF\t36370\t1954\nKaren\tF\t36380\t1960\nDonna\tF\t36465\t1959\nThomas\tM\t36524\t1962\nDaniel\tM\t36533\t1984\nBrittany\tF\t36537\t1990\nDaniel\tM\t36574\t1986\nMichael\tM\t36615\t1998\nDorothy\tF\t36617\t1926\nCharles\tM\t36627\t1943\nMary\tF\t36642\t1913\nDorothy\tF\t36643\t1920\nBetty\tF\t36675\t1929\nJoshua\tM\t36707\t1983\nBarbara\tF\t36734\t1940\nKaren\tF\t36776\t1959\nDavid\tM\t36786\t1987\nSteven\tM\t36819\t1957\nAmanda\tF\t36827\t1989\nRichard\tM\t36849\t1965\nDebra\tF\t36860\t1953\nPatricia\tF\t36877\t1944\nPatricia\tF\t36901\t1941\nWilliam\tM\t36956\t1968\nGary\tM\t36972\t1953\nRobert\tM\t37031\t1974\nDavid\tM\t37098\t1945\nDavid\tM\t37147\t1986\nDavid\tM\t37236\t1943\nBarbara\tF\t37258\t1939\nLinda\tF\t37311\t1960\nJames\tM\t37339\t1917\nDavid\tM\t37381\t1944\nRichard\tM\t37415\t1940\nJason\tM\t37446\t1972\nCharles\tM\t37451\t1954\nSusan\tF\t37521\t1961\nJoshua\tM\t37542\t1986\nMichael\tM\t37549\t1997\nThomas\tM\t37551\t1961\nWilliam\tM\t37619\t1967\nWilliam\tM\t37629\t1969\nJohn\tM\t37638\t1974\nSusan\tF\t37706\t1949\nDorothy\tF\t37716\t1922\nMatthew\tM\t37734\t1992\nBrittany\tF\t37788\t1989\nSteven\tM\t37821\t1955\nMatthew\tM\t37855\t1980\nGary\tM\t37919\t1954\nPatricia\tF\t37940\t1958\nJohn\tM\t37948\t1914\nSusan\tF\t38017\t1950\nJoshua\tM\t38028\t1982\nGary\tM\t38163\t1951\nCharles\tM\t38203\t1946\nChristopher\tM\t38227\t1993\nBetty\tF\t38234\t1930\nWilliam\tM\t38253\t1966\nMark\tM\t38264\t1965\nBarbara\tF\t38276\t1945\nJames\tM\t38309\t1976\nJames\tM\t38313\t1981\nJessica\tF\t38356\t1992\nMichael\tM\t38364\t1996\nSteven\tM\t38397\t1956\nLinda\tF\t38412\t1944\nCharles\tM\t38434\t1953\nLinda\tF\t38439\t1943\nAshley\tF\t38453\t1992\nKaren\tF\t38463\t1958\nBarbara\tF\t38472\t1953\nDavid\tM\t38486\t1984\nDavid\tM\t38521\t1985\nDaniel\tM\t38542\t1985\nWilliam\tM\t38564\t1915\nDorothy\tF\t38570\t1925\nCharles\tM\t38676\t1948\nRobert\tM\t38701\t1973\nGary\tM\t38756\t1952\nAshley\tF\t38772\t1984\nThomas\tM\t38867\t1946\nCharles\tM\t38869\t1952\nJames\tM\t38875\t1982\nWilliam\tM\t38910\t1970\nLisa\tF\t38963\t1970\nDorothy\tF\t39044\t1923\nWilliam\tM\t39049\t1933\nAmanda\tF\t39052\t1985\nJoshua\tM\t39054\t1981\nDorothy\tF\t39087\t1921\nCharles\tM\t39102\t1950\nRichard\tM\t39106\t1941\nJohn\tM\t39176\t1973\nDavid\tM\t39177\t1975\nBarbara\tF\t39197\t1944\nDavid\tM\t39199\t1983\nSusan\tF\t39203\t1960\nPatricia\tF\t39270\t1957\nThomas\tM\t39273\t1960\nBarbara\tF\t39279\t1938\nDavid\tM\t39294\t1976\nJames\tM\t39325\t1980\nCynthia\tF\t39326\t1957\nJames\tM\t39371\t1979\nWilliam\tM\t39386\t1936\nCharles\tM\t39397\t1951\nRichard\tM\t39409\t1962\nPatricia\tF\t39456\t1942\nAmanda\tF\t39457\t1988\nBarbara\tF\t39538\t1941\nJames\tM\t39591\t1975\nPatricia\tF\t39625\t1943\nBarbara\tF\t39865\t1952\nJames\tM\t39915\t1978\nDorothy\tF\t39999\t1924\nJoshua\tM\t40000\t1987\nCharles\tM\t40042\t1949\nKaren\tF\t40047\t1956\nJames\tM\t40054\t1977\nDeborah\tF\t40071\t1957\nRichard\tM\t40097\t1964\nWilliam\tM\t40127\t1965\nWilliam\tM\t40170\t1934\nWilliam\tM\t40198\t1935\nSusan\tF\t40228\t1951\nJoshua\tM\t40262\t1984\nThomas\tM\t40276\t1959\nLinda\tF\t40403\t1959\nWilliam\tM\t40419\t1916\nDavid\tM\t40459\t1982\nAmanda\tF\t40529\t1986\nDavid\tM\t40543\t1977\nKaren\tF\t40586\t1957\nBarbara\tF\t40620\t1951\nRobert\tM\t40620\t1918\nJason\tM\t40632\t1982\nDavid\tM\t40668\t1981\nDavid\tM\t40704\t1978\nWilliam\tM\t40713\t1937\nCharles\tM\t40770\t1947\nRichard\tM\t40786\t1963\nMary\tF\t40990\t1964\nRobert\tM\t41027\t1919\nDavid\tM\t41102\t1973\nRichard\tM\t41117\t1961\nMichael\tM\t41181\t1946\nJoshua\tM\t41218\t1991\nSusan\tF\t41350\t1952\nJames\tM\t41354\t1974\nMichael\tM\t41402\t1995\nLinda\tF\t41462\t1945\nMary\tF\t41550\t1963\nBarbara\tF\t41552\t1950\nSusan\tF\t41599\t1959\nMatthew\tM\t41640\t1991\nChristopher\tM\t41772\t1970\nAmanda\tF\t41786\t1987\nDavid\tM\t41815\t1974\nLinda\tF\t41899\t1958\nDavid\tM\t41925\t1980\nJason\tM\t41931\t1981\nDeborah\tF\t42052\t1951\nThomas\tM\t42064\t1958\nWilliam\tM\t42077\t1939\nDavid\tM\t42078\t1979\nWilliam\tM\t42117\t1932\nJames\tM\t42118\t1918\nJoshua\tM\t42195\t1985\nMark\tM\t42222\t1955\nShirley\tF\t42358\t1935\nJames\tM\t42390\t1919\nWilliam\tM\t42422\t1917\nWilliam\tM\t42422\t1938\nChristopher\tM\t42460\t1992\nJessica\tF\t42533\t1981\nBarbara\tF\t42601\t1949\nJennifer\tF\t42651\t1985\nJoshua\tM\t42651\t1988\nLisa\tF\t42702\t1961\nDebra\tF\t42737\t1957\nJames\tM\t42889\t1973\nRobert\tM\t43037\t1972\nJohn\tM\t43181\t1972\nJoshua\tM\t43219\t1990\nWilliam\tM\t43276\t1931\nMatthew\tM\t43333\t1981\nPatricia\tF\t43342\t1956\nJessica\tF\t43398\t1991\nBarbara\tF\t43429\t1943\nAshley\tF\t43478\t1991\nMary\tF\t43486\t1962\nRichard\tM\t43546\t1960\nRichard\tM\t43585\t1942\nThomas\tM\t43778\t1948\nWilliam\tM\t43971\t1919\nJoshua\tM\t44091\t1989\nWilliam\tM\t44240\t1964\nSusan\tF\t44297\t1953\nMichael\tM\t44469\t1994\nWilliam\tM\t44474\t1963\nLinda\tF\t44500\t1957\nThomas\tM\t44572\t1957\nBarbara\tF\t44734\t1942\nWilliam\tM\t44768\t1940\nMatthew\tM\t44804\t1990\nThomas\tM\t44818\t1956\nThomas\tM\t44835\t1947\nWilliam\tM\t44860\t1962\nLisa\tF\t45029\t1969\nBarbara\tF\t45122\t1946\nSusan\tF\t45173\t1958\nThomas\tM\t45202\t1949\nChristopher\tM\t45210\t1976\nMark\tM\t45269\t1964\nJessica\tF\t45282\t1983\nWilliam\tM\t45290\t1918\nMary\tF\t45345\t1914\nMatthew\tM\t45374\t1989\nJessica\tF\t45451\t1982\nAshley\tF\t45560\t1990\nThomas\tM\t45599\t1950\nRichard\tM\t45642\t1944\nThomas\tM\t45824\t1955\nJessica\tF\t45855\t1984\nMatthew\tM\t45870\t1988\nDebra\tF\t45890\t1954\nSusan\tF\t45948\t1957\nRichard\tM\t46043\t1945\nMatthew\tM\t46066\t1982\nLisa\tF\t46078\t1962\nPatricia\tF\t46136\t1948\nJennifer\tF\t46157\t1970\nPatricia\tF\t46217\t1955\nJohn\tM\t46222\t1933\nPatricia\tF\t46296\t1946\nRichard\tM\t46328\t1943\nPatricia\tF\t46330\t1949\nDavid\tM\t46366\t1972\nDavid\tM\t46439\t1946\nJessica\tF\t46475\t1990\nMatthew\tM\t46481\t1987\nSusan\tF\t46571\t1956\nChristopher\tM\t46592\t1975\nJason\tM\t46683\t1973\nJohn\tM\t46734\t1934\nChristopher\tM\t46749\t1977\nBarbara\tF\t46826\t1948\nMatthew\tM\t46925\t1986\nThomas\tM\t47005\t1953\nAshley\tF\t47007\t1985\nMatthew\tM\t47079\t1985\nJames\tM\t47083\t1972\nChristopher\tM\t47104\t1991\nSusan\tF\t47151\t1954\nThomas\tM\t47158\t1954\nRichard\tM\t47169\t1959\nChristopher\tM\t47259\t1978\nWilliam\tM\t47265\t1930\nSusan\tF\t47402\t1955\nJohn\tM\t47499\t1935\nJohn\tM\t47576\t1915\nAshley\tF\t47589\t1989\nJohn\tM\t47669\t1936\nMary\tF\t47680\t1961\nWilliam\tM\t47789\t1941\nWilliam\tM\t47805\t1929\nDeborah\tF\t47837\t1956\nJessica\tF\t47884\t1989\nJames\tM\t47912\t1920\nPatricia\tF\t47945\t1950\nWilliam\tM\t47994\t1961\nLinda\tF\t48075\t1956\nJason\tM\t48171\t1980\nChristopher\tM\t48234\t1971\nThomas\tM\t48284\t1951\nDebra\tF\t48302\t1956\nChristopher\tM\t48321\t1973\nJessica\tF\t48347\t1985\nJohn\tM\t48423\t1931\nChristopher\tM\t48603\t1974\nJohn\tM\t48617\t1932\nThomas\tM\t48652\t1952\nRobert\tM\t48676\t1920\nJohn\tM\t48746\t1937\nBarbara\tF\t48792\t1947\nMark\tM\t48832\t1956\nChristopher\tM\t49092\t1980\nWilliam\tM\t49117\t1928\nPatricia\tF\t49146\t1954\nMark\tM\t49350\t1963\nWilliam\tM\t49350\t1960\nLisa\tF\t49532\t1968\nMichael\tM\t49549\t1993\nAshley\tF\t49676\t1986\nJames\tM\t49748\t1921\nMatthew\tM\t49776\t1984\nJames\tM\t49801\t1922\nDeborah\tF\t49814\t1952\nRichard\tM\t49942\t1958\nAshley\tF\t49963\t1988\nJohn\tM\t50043\t1916\nWilliam\tM\t50149\t1920\nWilliam\tM\t50213\t1945\nMatthew\tM\t50217\t1983\nChristopher\tM\t50235\t1981\nJason\tM\t50408\t1979\nJames\tM\t50463\t1923\nMichael\tM\t50501\t1947\nJohn\tM\t50519\t1938\nDebra\tF\t50556\t1955\nJennifer\tF\t50559\t1984\nRobert\tM\t50654\t1971\nChristopher\tM\t50677\t1979\nRichard\tM\t50939\t1949\nRichard\tM\t50970\t1948\nRichard\tM\t51000\t1950\nJohn\tM\t51015\t1939\nPatricia\tF\t51018\t1953\nJames\tM\t51102\t1933\nWilliam\tM\t51116\t1922\nJames\tM\t51219\t1931\nPatricia\tF\t51279\t1947\nLinda\tF\t51288\t1955\nWilliam\tM\t51366\t1959\nMary\tF\t51475\t1960\nWilliam\tM\t51482\t1927\nJohn\tM\t51518\t1971\nJessica\tF\t51543\t1988\nJason\tM\t51629\t1978\nJohn\tM\t51853\t1917\nWilliam\tM\t51860\t1921\nWilliam\tM\t51920\t1926\nJames\tM\t51922\t1932\nJohn\tM\t52113\t1929\nJames\tM\t52127\t1929\nWilliam\tM\t52136\t1923\nJason\tM\t52186\t1975\nChristopher\tM\t52189\t1972\nDeborah\tF\t52201\t1953\nDeborah\tF\t52315\t1955\nChristopher\tM\t52336\t1990\nWilliam\tM\t52369\t1944\nRichard\tM\t52401\t1957\nJohn\tM\t52434\t1930\nLisa\tF\t52435\t1967\nMichael\tM\t52564\t1948\nMark\tM\t52665\t1958\nJessica\tF\t52677\t1986\nJason\tM\t52680\t1976\nJames\tM\t52682\t1925\nLinda\tF\t52710\t1946\nJames\tM\t52754\t1928\nRobert\tM\t52784\t1921\nMark\tM\t52794\t1957\nRichard\tM\t52906\t1956\nJames\tM\t52939\t1924\nChristopher\tM\t52997\t1988\nPatricia\tF\t53098\t1952\nDavid\tM\t53118\t1971\nChristopher\tM\t53178\t1989\nJames\tM\t53209\t1926\nWilliam\tM\t53304\t1925\nMark\tM\t53504\t1962\nWilliam\tM\t53511\t1924\nJohn\tM\t53528\t1919\nRichard\tM\t53545\t1955\nJames\tM\t53674\t1927\nJohn\tM\t53755\t1928\nRobert\tM\t53793\t1922\nJames\tM\t53941\t1930\nWilliam\tM\t54195\t1958\nRobert\tM\t54218\t1933\nJames\tM\t54249\t1934\nLisa\tF\t54275\t1964\nJennifer\tF\t54346\t1983\nMary\tF\t54372\t1936\nMichael\tM\t54392\t1992\nMary\tF\t54474\t1959\nChristopher\tM\t54493\t1987\nRichard\tM\t54549\t1951\nJames\tM\t54621\t1971\nDeborah\tF\t54677\t1954\nJames\tM\t54686\t1936\nJason\tM\t54776\t1974\nJohn\tM\t54779\t1940\nAshley\tF\t54854\t1987\nWilliam\tM\t54884\t1942\nMary\tF\t54901\t1939\nJames\tM\t55000\t1935\nMary\tF\t55069\t1935\nLinda\tF\t55381\t1954\nMary\tF\t55509\t1933\nMary\tF\t55645\t1937\nJason\tM\t55653\t1977\nRobert\tM\t55829\t1934\nMary\tF\t55857\t1958\nWilliam\tM\t55898\t1943\nJohn\tM\t55954\t1927\nJessica\tF\t55994\t1987\nLisa\tF\t56040\t1963\nJohn\tM\t56110\t1926\nRobert\tM\t56117\t1923\nMary\tF\t56203\t1940\nMary\tF\t56215\t1938\nJennifer\tF\t56321\t1978\nRobert\tM\t56381\t1967\nPatricia\tF\t56442\t1951\nRobert\tM\t56524\t1935\nJames\tM\t56551\t1937\nJohn\tM\t56558\t1918\nDavid\tM\t56623\t1948\nChristopher\tM\t56691\t1986\nJennifer\tF\t56717\t1979\nJennifer\tF\t56783\t1971\nWilliam\tM\t56829\t1957\nMark\tM\t56909\t1959\nJohn\tM\t56913\t1920\nLisa\tF\t56914\t1966\nMary\tF\t56929\t1934\nRichard\tM\t57014\t1954\nJennifer\tF\t57049\t1981\nJennifer\tF\t57117\t1982\nJohn\tM\t57199\t1925\nRobert\tM\t57203\t1970\nJohn\tM\t57277\t1922\nJohn\tM\t57470\t1923\nJohn\tM\t57515\t1941\nMark\tM\t57767\t1961\nDavid\tM\t57806\t1947\nMary\tF\t58040\t1941\nJennifer\tF\t58183\t1975\nMary\tF\t58187\t1915\nRobert\tM\t58211\t1968\nJohn\tM\t58217\t1921\nRobert\tM\t58325\t1969\nRichard\tM\t58350\t1952\nJennifer\tF\t58375\t1980\nRichard\tM\t58403\t1953\nRobert\tM\t58492\t1936\nRichard\tM\t58521\t1947\nJohn\tM\t58525\t1970\nMark\tM\t58728\t1960\nJohn\tM\t58771\t1969\nRichard\tM\t58868\t1946\nWilliam\tM\t58957\t1956\nJennifer\tF\t58964\t1977\nJohn\tM\t59055\t1924\nJames\tM\t59099\t1938\nChristopher\tM\t59231\t1982\nRobert\tM\t59266\t1932\nMary\tF\t59283\t1945\nRobert\tM\t59330\t1966\nChristopher\tM\t59349\t1983\nJennifer\tF\t59474\t1976\nDavid\tM\t59601\t1949\nChristopher\tM\t59609\t1985\nJames\tM\t59627\t1939\nRobert\tM\t59645\t1939\nRobert\tM\t59798\t1929\nMary\tF\t59874\t1932\nJames\tM\t59915\t1969\nWilliam\tM\t59958\t1955\nChristopher\tM\t60029\t1984\nWilliam\tM\t60038\t1946\nMichael\tM\t60046\t1949\nLisa\tF\t60269\t1965\nMary\tF\t60296\t1931\nRobert\tM\t60508\t1931\nWilliam\tM\t60689\t1950\nJames\tM\t60693\t1968\nRobert\tM\t60699\t1928\nDavid\tM\t60727\t1950\nMichael\tM\t60785\t1991\nRobert\tM\t60801\t1924\nRobert\tM\t60897\t1925\nJohn\tM\t60929\t1968\nMary\tF\t61094\t1957\nRobert\tM\t61130\t1926\nRobert\tM\t61196\t1940\nLinda\tF\t61280\t1953\nWilliam\tM\t61417\t1954\nMary\tF\t61438\t1916\nWilliam\tM\t61501\t1949\nJohn\tM\t61618\t1967\nRobert\tM\t61669\t1927\nJames\tM\t61698\t1967\nDavid\tM\t61752\t1970\nMary\tF\t61756\t1956\nJames\tM\t61759\t1970\nRobert\tM\t61835\t1937\nWilliam\tM\t61840\t1953\nWilliam\tM\t61965\t1948\nRobert\tM\t62149\t1930\nRobert\tM\t62268\t1938\nJennifer\tF\t62447\t1973\nMary\tF\t62467\t1944\nJames\tM\t62473\t1940\nWilliam\tM\t62782\t1951\nWilliam\tM\t63047\t1952\nJennifer\tF\t63114\t1974\nRobert\tM\t63123\t1965\nMary\tF\t63165\t1955\nMary\tF\t63254\t1942\nMary\tF\t63508\t1929\nJennifer\tF\t63603\t1972\nMichael\tM\t63655\t1987\nDavid\tM\t63700\t1969\nDavid\tM\t63718\t1968\nMichael\tM\t64143\t1988\nMary\tF\t64146\t1930\nMichael\tM\t64208\t1986\nRobert\tM\t64233\t1941\nMary\tF\t64281\t1917\nMary\tF\t64379\t1953\nDavid\tM\t64792\t1951\nMichael\tM\t64912\t1985\nJohn\tM\t65032\t1966\nMichael\tM\t65144\t1950\nJames\tM\t65174\t1966\nMichael\tM\t65290\t1990\nMichael\tM\t65389\t1989\nMary\tF\t65481\t1950\nMary\tF\t65634\t1952\nMary\tF\t65721\t1951\nMary\tF\t65838\t1919\nJohn\tM\t66027\t1942\nJohn\tM\t66113\t1945\nMary\tF\t66169\t1943\nDavid\tM\t66420\t1966\nJohn\tM\t66610\t1944\nJames\tM\t66736\t1941\nDavid\tM\t66810\t1967\nMary\tF\t66864\t1949\nMary\tF\t66872\t1928\nMichael\tM\t66954\t1976\nWilliam\tM\t66989\t1947\nLinda\tF\t67082\t1952\nMichael\tM\t67158\t1978\nMary\tF\t67366\t1918\nMary\tF\t67467\t1946\nMichael\tM\t67578\t1974\nMichael\tM\t67616\t1977\nJames\tM\t67701\t1965\nMichael\tM\t67739\t1979\nMichael\tM\t67741\t1984\nMary\tF\t67832\t1926\nMichael\tM\t67847\t1973\nDavid\tM\t67852\t1965\nMichael\tM\t68000\t1983\nMary\tF\t68007\t1954\nMichael\tM\t68235\t1982\nMichael\tM\t68454\t1975\nMary\tF\t68597\t1948\nMichael\tM\t68696\t1980\nMichael\tM\t68763\t1981\nJohn\tM\t68919\t1943\nRobert\tM\t69937\t1945\nRobert\tM\t70003\t1964\nRobert\tM\t70012\t1963\nRobert\tM\t70196\t1962\nMary\tF\t70591\t1925\nMary\tF\t70639\t1927\nRobert\tM\t70843\t1944\nMary\tF\t70982\t1920\nJames\tM\t71322\t1963\nMichael\tM\t71405\t1972\nJohn\tM\t71541\t1965\nMary\tF\t71638\t1923\nMary\tF\t71687\t1947\nDavid\tM\t71750\t1952\nRobert\tM\t71838\t1942\nMary\tF\t72173\t1922\nRobert\tM\t72360\t1960\nJames\tM\t72555\t1962\nMichael\tM\t72797\t1951\nRobert\tM\t72901\t1961\nJames\tM\t73037\t1964\nMary\tF\t73534\t1924\nLinda\tF\t73978\t1951\nMary\tF\t73985\t1921\nJames\tM\t74449\t1945\nRobert\tM\t74502\t1959\nRobert\tM\t74865\t1943\nDavid\tM\t75054\t1964\nJames\tM\t75924\t1961\nJohn\tM\t75991\t1958\nJohn\tM\t76093\t1960\nDavid\tM\t76152\t1953\nJohn\tM\t76407\t1959\nJames\tM\t76832\t1960\nJames\tM\t76951\t1944\nJames\tM\t77176\t1942\nRobert\tM\t77272\t1958\nMichael\tM\t77594\t1971\nJohn\tM\t78429\t1962\nDavid\tM\t78467\t1963\nJames\tM\t78606\t1959\nJohn\tM\t78625\t1963\nJames\tM\t78713\t1958\nJohn\tM\t78984\t1957\nMichael\tM\t79049\t1952\nJohn\tM\t79261\t1946\nJohn\tM\t79424\t1950\nDavid\tM\t79529\t1954\nJohn\tM\t79929\t1961\nMichael\tM\t79990\t1966\nJohn\tM\t80054\t1955\nJohn\tM\t80190\t1953\nJames\tM\t80261\t1943\nLinda\tF\t80431\t1950\nJohn\tM\t80790\t1956\nMichael\tM\t81021\t1965\nJohn\tM\t81161\t1949\nJohn\tM\t81165\t1954\nDavid\tM\t81324\t1962\nJohn\tM\t81574\t1951\nDavid\tM\t81624\t1956\nRobert\tM\t81717\t1957\nMichael\tM\t82008\t1968\nDavid\tM\t82349\t1957\nMichael\tM\t82436\t1967\nJohn\tM\t82533\t1964\nDavid\tM\t82578\t1958\nMichael\tM\t82646\t1964\nJohn\tM\t82829\t1948\nJohn\tM\t83138\t1952\nRobert\tM\t83559\t1950\nRobert\tM\t83703\t1955\nMichael\tM\t83782\t1963\nRobert\tM\t83872\t1949\nRobert\tM\t83917\t1956\nDavid\tM\t83931\t1959\nRobert\tM\t84138\t1946\nJames\tM\t84155\t1955\nMichael\tM\t84180\t1960\nMichael\tM\t84226\t1953\nJames\tM\t84275\t1957\nDavid\tM\t84758\t1961\nJames\tM\t84863\t1956\nMichael\tM\t85034\t1962\nMichael\tM\t85203\t1969\nMichael\tM\t85251\t1959\nMichael\tM\t85302\t1970\nRobert\tM\t85475\t1948\nDavid\tM\t85929\t1960\nJames\tM\t86099\t1953\nJames\tM\t86224\t1950\nDavid\tM\t86253\t1955\nRobert\tM\t86256\t1953\nJames\tM\t86272\t1954\nRobert\tM\t86298\t1954\nRobert\tM\t86351\t1951\nRobert\tM\t86604\t1952\nJames\tM\t86857\t1949\nMichael\tM\t86917\t1961\nJames\tM\t87063\t1952\nJames\tM\t87261\t1951\nJames\tM\t87436\t1946\nJohn\tM\t88319\t1947\nMichael\tM\t88327\t1955\nMichael\tM\t88528\t1954\nJames\tM\t88584\t1948\nMichael\tM\t90517\t1958\nMichael\tM\t90656\t1956\nLinda\tF\t91016\t1949\nRobert\tM\t91640\t1947\nMichael\tM\t92704\t1957\nJames\tM\t94757\t1947\nLinda\tF\t96211\t1948\nLinda\tF\t99689\t1947\n"
    }
   ],
   "source": [
    "!sort -nk3 < ./in/popular-names.txt"
   ]
  },
  {
   "cell_type": "markdown",
   "metadata": {},
   "source": [
    "## 19. 各行の1コラム目の文字列の出現頻度を求め，出現頻度の高い順に並べる\n",
    "各行の1列目の文字列の出現頻度を求め，その高い順に並べて表示せよ．確認にはcut, uniq, sortコマンドを用いよ．"
   ]
  },
  {
   "cell_type": "code",
   "execution_count": 129,
   "metadata": {},
   "outputs": [],
   "source": [
    "from itertools import groupby\n",
    "\n",
    "with open('./in/popular-names.txt', 'r') as f, open('./out/19.txt', 'w') as out:\n",
    "    rows = f.read().strip().split('\\n')\n",
    "    fir = sorted(row.split()[0] for row in rows)\n",
    "    res = [(len(list(v)), k) for k, v in groupby(fir)]\n",
    "    for i in sorted(res, reverse=True):\n",
    "        out.write(i[1] + '\\n')"
   ]
  },
  {
   "cell_type": "code",
   "execution_count": 133,
   "metadata": {},
   "outputs": [],
   "source": [
    "!awk '$0=$1' < ./in/popular-names.txt | sort | uniq -c | sort -nr | awk '$0=$2' | diff - ./out/19.txt"
   ]
  }
 ]
}